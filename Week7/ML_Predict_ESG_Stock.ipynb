{
 "cells": [
  {
   "cell_type": "markdown",
   "metadata": {},
   "source": [
    "# ESG Stock Selection"
   ]
  },
  {
   "cell_type": "markdown",
   "metadata": {},
   "source": [
    "This project aims to build simple classification models to predict whether the U.S. stock will be added to the ESG portfolio. It is a binary classification problem where each asset has a target variable with a value of one, meaning that the stock is added to the ESG portfolio with the overall ESG score more than or equal to five and zero otherwise. \n",
    "\n",
    "This project is a simulation to help students understand the machine learning process widely used in the financial industries to help select the asset. The dataset contains  746 U.S. stocks that were preprocessed and merged from two sources:  \n",
    "1. https://www.kaggle.com/datasets/finintelligence/nasdaq-financial-fundamentals \n",
    "2. https://www.kaggle.com/datasets/debashish311601/esg-scores-and-ratings?resource=download\n",
    "\n",
    "\n",
    "The dataset contains outdated fundamental data and has not been entirely verified. Hence, using this dataset for personal academic assignments is not recommended. The information is not intended as financial advice and shall not be understood or construed as financial advice."
   ]
  },
  {
   "cell_type": "markdown",
   "metadata": {},
   "source": [
    "This Jupyter notebook will outline the following processes: \n",
    "    \n",
    "1. Import the data\n",
    "2. Data Analysis\n",
    "3. Basic Data Transformation\n",
    "4. Prepare Data for Machine Learning Model\n",
    "5. Basic Machine Learning Models\n",
    "6. Evaluate Performance"
   ]
  },
  {
   "cell_type": "markdown",
   "metadata": {},
   "source": [
    "## 1. Import the data"
   ]
  },
  {
   "cell_type": "code",
   "execution_count": 1,
   "metadata": {},
   "outputs": [],
   "source": [
    "import pandas as pd\n",
    "import numpy as np"
   ]
  },
  {
   "cell_type": "code",
   "execution_count": 2,
   "metadata": {},
   "outputs": [],
   "source": [
    "FILE_NAME = 'US_Stock_ESG_and_Fundamental_seminar.csv'"
   ]
  },
  {
   "cell_type": "code",
   "execution_count": 3,
   "metadata": {},
   "outputs": [
    {
     "data": {
      "text/html": [
       "<div>\n",
       "<style scoped>\n",
       "    .dataframe tbody tr th:only-of-type {\n",
       "        vertical-align: middle;\n",
       "    }\n",
       "\n",
       "    .dataframe tbody tr th {\n",
       "        vertical-align: top;\n",
       "    }\n",
       "\n",
       "    .dataframe thead th {\n",
       "        text-align: right;\n",
       "    }\n",
       "</style>\n",
       "<table border=\"1\" class=\"dataframe\">\n",
       "  <thead>\n",
       "    <tr style=\"text-align: right;\">\n",
       "      <th></th>\n",
       "      <th>Ticker</th>\n",
       "      <th>Company Name</th>\n",
       "      <th>Country</th>\n",
       "      <th>Sector</th>\n",
       "      <th>Subsector</th>\n",
       "      <th>Environmental SCORE</th>\n",
       "      <th>Social SCORE</th>\n",
       "      <th>Governance SCORE</th>\n",
       "      <th>Assets</th>\n",
       "      <th>Cash and Cash Equivalents, at Carrying Value</th>\n",
       "      <th>Final Revenue</th>\n",
       "      <th>Gross Profit</th>\n",
       "      <th>Income from Continuing Operations before Taxes</th>\n",
       "      <th>Operating Income (Loss)</th>\n",
       "      <th>Total Equity</th>\n",
       "      <th>Total Liabilities and Equity</th>\n",
       "      <th>Net Income (Loss)</th>\n",
       "      <th>Cash and Cash Equivalents, Period Increase (Decrease)</th>\n",
       "      <th>Target</th>\n",
       "    </tr>\n",
       "  </thead>\n",
       "  <tbody>\n",
       "    <tr>\n",
       "      <th>0</th>\n",
       "      <td>FLWS</td>\n",
       "      <td>1-800-FLOWERSCOM, INC</td>\n",
       "      <td>US</td>\n",
       "      <td>Retail - Consumer Discretionary</td>\n",
       "      <td>Internet &amp; Direct Marketing Retail</td>\n",
       "      <td>1.2</td>\n",
       "      <td>6.7</td>\n",
       "      <td>3.8</td>\n",
       "      <td>536,570,000</td>\n",
       "      <td>61,696,000</td>\n",
       "      <td>234,207,000</td>\n",
       "      <td>96,721,000</td>\n",
       "      <td>-14,620,000</td>\n",
       "      <td>-13,236,000</td>\n",
       "      <td>249,186,000</td>\n",
       "      <td>536,570,000</td>\n",
       "      <td>NaN</td>\n",
       "      <td>NaN</td>\n",
       "      <td>1</td>\n",
       "    </tr>\n",
       "    <tr>\n",
       "      <th>1</th>\n",
       "      <td>SRCE</td>\n",
       "      <td>1ST SOURCE CORPORATION</td>\n",
       "      <td>US</td>\n",
       "      <td>Banks</td>\n",
       "      <td>Regional Banks</td>\n",
       "      <td>0.0</td>\n",
       "      <td>2.6</td>\n",
       "      <td>4.7</td>\n",
       "      <td>5,245,610,000</td>\n",
       "      <td>85,227,000</td>\n",
       "      <td>NaN</td>\n",
       "      <td>NaN</td>\n",
       "      <td>21,236,000</td>\n",
       "      <td>NaN</td>\n",
       "      <td>649,973,000</td>\n",
       "      <td>5,245,610,000</td>\n",
       "      <td>13,818,000</td>\n",
       "      <td>NaN</td>\n",
       "      <td>0</td>\n",
       "    </tr>\n",
       "    <tr>\n",
       "      <th>2</th>\n",
       "      <td>TWOU</td>\n",
       "      <td>2U, INC</td>\n",
       "      <td>US</td>\n",
       "      <td>Software &amp; Services</td>\n",
       "      <td>Education Services</td>\n",
       "      <td>4.7</td>\n",
       "      <td>4.7</td>\n",
       "      <td>6.3</td>\n",
       "      <td>236,718,000</td>\n",
       "      <td>186,710,000</td>\n",
       "      <td>47,444,000</td>\n",
       "      <td>NaN</td>\n",
       "      <td>NaN</td>\n",
       "      <td>-3,446,000</td>\n",
       "      <td>196,623,000</td>\n",
       "      <td>236,718,000</td>\n",
       "      <td>-3,380,000</td>\n",
       "      <td>2,981,000</td>\n",
       "      <td>1</td>\n",
       "    </tr>\n",
       "    <tr>\n",
       "      <th>3</th>\n",
       "      <td>AAON</td>\n",
       "      <td>AAON, INC</td>\n",
       "      <td>US</td>\n",
       "      <td>Building Products</td>\n",
       "      <td>Building Products</td>\n",
       "      <td>5.0</td>\n",
       "      <td>7.0</td>\n",
       "      <td>5.6</td>\n",
       "      <td>236,669,000</td>\n",
       "      <td>17,248,000</td>\n",
       "      <td>85,422,000</td>\n",
       "      <td>25,731,000</td>\n",
       "      <td>25,731,000</td>\n",
       "      <td>16,826,000</td>\n",
       "      <td>NaN</td>\n",
       "      <td>236,669,000</td>\n",
       "      <td>11,551,000</td>\n",
       "      <td>9,340,000</td>\n",
       "      <td>1</td>\n",
       "    </tr>\n",
       "    <tr>\n",
       "      <th>4</th>\n",
       "      <td>ABMD</td>\n",
       "      <td>ABIOMED, INC</td>\n",
       "      <td>US</td>\n",
       "      <td>Health Care Equipment &amp; Supplies</td>\n",
       "      <td>Health Care Equipment</td>\n",
       "      <td>6.5</td>\n",
       "      <td>7.6</td>\n",
       "      <td>4.9</td>\n",
       "      <td>423,931,000</td>\n",
       "      <td>48,231,000</td>\n",
       "      <td>93,957,000</td>\n",
       "      <td>NaN</td>\n",
       "      <td>NaN</td>\n",
       "      <td>19,813,000</td>\n",
       "      <td>368,775,000</td>\n",
       "      <td>423,931,000</td>\n",
       "      <td>10,998,000</td>\n",
       "      <td>NaN</td>\n",
       "      <td>1</td>\n",
       "    </tr>\n",
       "  </tbody>\n",
       "</table>\n",
       "</div>"
      ],
      "text/plain": [
       "  Ticker            Company Name Country                            Sector  \\\n",
       "0   FLWS   1-800-FLOWERSCOM, INC      US   Retail - Consumer Discretionary   \n",
       "1   SRCE  1ST SOURCE CORPORATION      US                             Banks   \n",
       "2   TWOU                 2U, INC      US               Software & Services   \n",
       "3   AAON               AAON, INC      US                 Building Products   \n",
       "4   ABMD            ABIOMED, INC      US  Health Care Equipment & Supplies   \n",
       "\n",
       "                            Subsector  Environmental SCORE  Social SCORE  \\\n",
       "0  Internet & Direct Marketing Retail                  1.2           6.7   \n",
       "1                      Regional Banks                  0.0           2.6   \n",
       "2                  Education Services                  4.7           4.7   \n",
       "3                   Building Products                  5.0           7.0   \n",
       "4               Health Care Equipment                  6.5           7.6   \n",
       "\n",
       "   Governance SCORE         Assets  \\\n",
       "0               3.8    536,570,000   \n",
       "1               4.7  5,245,610,000   \n",
       "2               6.3    236,718,000   \n",
       "3               5.6    236,669,000   \n",
       "4               4.9    423,931,000   \n",
       "\n",
       "  Cash and Cash Equivalents, at Carrying Value Final Revenue Gross Profit  \\\n",
       "0                                   61,696,000   234,207,000   96,721,000   \n",
       "1                                   85,227,000           NaN          NaN   \n",
       "2                                  186,710,000    47,444,000          NaN   \n",
       "3                                   17,248,000    85,422,000   25,731,000   \n",
       "4                                   48,231,000    93,957,000          NaN   \n",
       "\n",
       "  Income from Continuing Operations before Taxes Operating Income (Loss)  \\\n",
       "0                                    -14,620,000             -13,236,000   \n",
       "1                                     21,236,000                     NaN   \n",
       "2                                            NaN              -3,446,000   \n",
       "3                                     25,731,000              16,826,000   \n",
       "4                                            NaN              19,813,000   \n",
       "\n",
       "  Total Equity Total Liabilities and Equity Net Income (Loss)  \\\n",
       "0  249,186,000                  536,570,000               NaN   \n",
       "1  649,973,000                5,245,610,000        13,818,000   \n",
       "2  196,623,000                  236,718,000        -3,380,000   \n",
       "3          NaN                  236,669,000        11,551,000   \n",
       "4  368,775,000                  423,931,000        10,998,000   \n",
       "\n",
       "  Cash and Cash Equivalents, Period Increase (Decrease)  Target  \n",
       "0                                                NaN          1  \n",
       "1                                                NaN          0  \n",
       "2                                          2,981,000          1  \n",
       "3                                          9,340,000          1  \n",
       "4                                                NaN          1  "
      ]
     },
     "execution_count": 3,
     "metadata": {},
     "output_type": "execute_result"
    }
   ],
   "source": [
    "# read csv file to create DataFrame\n",
    "# DataFrame is two-dimensional data strcutures that has columns and rows.\n",
    "\n",
    "df = pd.read_csv(FILE_NAME, index_col=0) #use the first column as the index\n",
    "df.head(5) "
   ]
  },
  {
   "cell_type": "code",
   "execution_count": 4,
   "metadata": {},
   "outputs": [
    {
     "data": {
      "text/plain": [
       "(746, 19)"
      ]
     },
     "execution_count": 4,
     "metadata": {},
     "output_type": "execute_result"
    }
   ],
   "source": [
    "# show the size of dataset (number of rows, number of columns)\n",
    "df.shape"
   ]
  },
  {
   "cell_type": "markdown",
   "metadata": {},
   "source": [
    "## 2. Data Analysis"
   ]
  },
  {
   "cell_type": "code",
   "execution_count": 5,
   "metadata": {},
   "outputs": [
    {
     "ename": "TypeError",
     "evalue": "Cannot interpret '<attribute 'dtype' of 'numpy.generic' objects>' as a data type",
     "output_type": "error",
     "traceback": [
      "\u001b[0;31m---------------------------------------------------------------------------\u001b[0m",
      "\u001b[0;31mTypeError\u001b[0m                                 Traceback (most recent call last)",
      "\u001b[0;32m<ipython-input-5-a74c58233b9e>\u001b[0m in \u001b[0;36m<module>\u001b[0;34m\u001b[0m\n\u001b[0;32m----> 1\u001b[0;31m \u001b[0mdf\u001b[0m\u001b[0;34m.\u001b[0m\u001b[0minfo\u001b[0m\u001b[0;34m(\u001b[0m\u001b[0;34m)\u001b[0m\u001b[0;34m\u001b[0m\u001b[0;34m\u001b[0m\u001b[0m\n\u001b[0m",
      "\u001b[0;32m~/opt/anaconda3/lib/python3.8/site-packages/pandas/core/frame.py\u001b[0m in \u001b[0;36minfo\u001b[0;34m(self, verbose, buf, max_cols, memory_usage, null_counts)\u001b[0m\n\u001b[1;32m   2495\u001b[0m                 \u001b[0;32mif\u001b[0m \u001b[0;34m\"object\"\u001b[0m \u001b[0;32min\u001b[0m \u001b[0mcounts\u001b[0m \u001b[0;32mor\u001b[0m \u001b[0mself\u001b[0m\u001b[0;34m.\u001b[0m\u001b[0mindex\u001b[0m\u001b[0;34m.\u001b[0m\u001b[0m_is_memory_usage_qualified\u001b[0m\u001b[0;34m(\u001b[0m\u001b[0;34m)\u001b[0m\u001b[0;34m:\u001b[0m\u001b[0;34m\u001b[0m\u001b[0;34m\u001b[0m\u001b[0m\n\u001b[1;32m   2496\u001b[0m                     \u001b[0msize_qualifier\u001b[0m \u001b[0;34m=\u001b[0m \u001b[0;34m\"+\"\u001b[0m\u001b[0;34m\u001b[0m\u001b[0;34m\u001b[0m\u001b[0m\n\u001b[0;32m-> 2497\u001b[0;31m             \u001b[0mmem_usage\u001b[0m \u001b[0;34m=\u001b[0m \u001b[0mself\u001b[0m\u001b[0;34m.\u001b[0m\u001b[0mmemory_usage\u001b[0m\u001b[0;34m(\u001b[0m\u001b[0mindex\u001b[0m\u001b[0;34m=\u001b[0m\u001b[0;32mTrue\u001b[0m\u001b[0;34m,\u001b[0m \u001b[0mdeep\u001b[0m\u001b[0;34m=\u001b[0m\u001b[0mdeep\u001b[0m\u001b[0;34m)\u001b[0m\u001b[0;34m.\u001b[0m\u001b[0msum\u001b[0m\u001b[0;34m(\u001b[0m\u001b[0;34m)\u001b[0m\u001b[0;34m\u001b[0m\u001b[0;34m\u001b[0m\u001b[0m\n\u001b[0m\u001b[1;32m   2498\u001b[0m             \u001b[0mlines\u001b[0m\u001b[0;34m.\u001b[0m\u001b[0mappend\u001b[0m\u001b[0;34m(\u001b[0m\u001b[0;34mf\"memory usage: {_sizeof_fmt(mem_usage, size_qualifier)}\\n\"\u001b[0m\u001b[0;34m)\u001b[0m\u001b[0;34m\u001b[0m\u001b[0;34m\u001b[0m\u001b[0m\n\u001b[1;32m   2499\u001b[0m         \u001b[0mfmt\u001b[0m\u001b[0;34m.\u001b[0m\u001b[0mbuffer_put_lines\u001b[0m\u001b[0;34m(\u001b[0m\u001b[0mbuf\u001b[0m\u001b[0;34m,\u001b[0m \u001b[0mlines\u001b[0m\u001b[0;34m)\u001b[0m\u001b[0;34m\u001b[0m\u001b[0;34m\u001b[0m\u001b[0m\n",
      "\u001b[0;32m~/opt/anaconda3/lib/python3.8/site-packages/pandas/core/frame.py\u001b[0m in \u001b[0;36mmemory_usage\u001b[0;34m(self, index, deep)\u001b[0m\n\u001b[1;32m   2588\u001b[0m         )\n\u001b[1;32m   2589\u001b[0m         \u001b[0;32mif\u001b[0m \u001b[0mindex\u001b[0m\u001b[0;34m:\u001b[0m\u001b[0;34m\u001b[0m\u001b[0;34m\u001b[0m\u001b[0m\n\u001b[0;32m-> 2590\u001b[0;31m             result = Series(self.index.memory_usage(deep=deep), index=[\"Index\"]).append(\n\u001b[0m\u001b[1;32m   2591\u001b[0m                 \u001b[0mresult\u001b[0m\u001b[0;34m\u001b[0m\u001b[0;34m\u001b[0m\u001b[0m\n\u001b[1;32m   2592\u001b[0m             )\n",
      "\u001b[0;32m~/opt/anaconda3/lib/python3.8/site-packages/pandas/core/series.py\u001b[0m in \u001b[0;36m__init__\u001b[0;34m(self, data, index, dtype, name, copy, fastpath)\u001b[0m\n\u001b[1;32m    303\u001b[0m                     \u001b[0mdata\u001b[0m \u001b[0;34m=\u001b[0m \u001b[0mdata\u001b[0m\u001b[0;34m.\u001b[0m\u001b[0mcopy\u001b[0m\u001b[0;34m(\u001b[0m\u001b[0;34m)\u001b[0m\u001b[0;34m\u001b[0m\u001b[0;34m\u001b[0m\u001b[0m\n\u001b[1;32m    304\u001b[0m             \u001b[0;32melse\u001b[0m\u001b[0;34m:\u001b[0m\u001b[0;34m\u001b[0m\u001b[0;34m\u001b[0m\u001b[0m\n\u001b[0;32m--> 305\u001b[0;31m                 \u001b[0mdata\u001b[0m \u001b[0;34m=\u001b[0m \u001b[0msanitize_array\u001b[0m\u001b[0;34m(\u001b[0m\u001b[0mdata\u001b[0m\u001b[0;34m,\u001b[0m \u001b[0mindex\u001b[0m\u001b[0;34m,\u001b[0m \u001b[0mdtype\u001b[0m\u001b[0;34m,\u001b[0m \u001b[0mcopy\u001b[0m\u001b[0;34m,\u001b[0m \u001b[0mraise_cast_failure\u001b[0m\u001b[0;34m=\u001b[0m\u001b[0;32mTrue\u001b[0m\u001b[0;34m)\u001b[0m\u001b[0;34m\u001b[0m\u001b[0;34m\u001b[0m\u001b[0m\n\u001b[0m\u001b[1;32m    306\u001b[0m \u001b[0;34m\u001b[0m\u001b[0m\n\u001b[1;32m    307\u001b[0m                 \u001b[0mdata\u001b[0m \u001b[0;34m=\u001b[0m \u001b[0mSingleBlockManager\u001b[0m\u001b[0;34m(\u001b[0m\u001b[0mdata\u001b[0m\u001b[0;34m,\u001b[0m \u001b[0mindex\u001b[0m\u001b[0;34m,\u001b[0m \u001b[0mfastpath\u001b[0m\u001b[0;34m=\u001b[0m\u001b[0;32mTrue\u001b[0m\u001b[0;34m)\u001b[0m\u001b[0;34m\u001b[0m\u001b[0;34m\u001b[0m\u001b[0m\n",
      "\u001b[0;32m~/opt/anaconda3/lib/python3.8/site-packages/pandas/core/construction.py\u001b[0m in \u001b[0;36msanitize_array\u001b[0;34m(data, index, dtype, copy, raise_cast_failure)\u001b[0m\n\u001b[1;32m    463\u001b[0m                 \u001b[0mvalue\u001b[0m \u001b[0;34m=\u001b[0m \u001b[0mmaybe_cast_to_datetime\u001b[0m\u001b[0;34m(\u001b[0m\u001b[0mvalue\u001b[0m\u001b[0;34m,\u001b[0m \u001b[0mdtype\u001b[0m\u001b[0;34m)\u001b[0m\u001b[0;34m\u001b[0m\u001b[0;34m\u001b[0m\u001b[0m\n\u001b[1;32m    464\u001b[0m \u001b[0;34m\u001b[0m\u001b[0m\n\u001b[0;32m--> 465\u001b[0;31m             \u001b[0msubarr\u001b[0m \u001b[0;34m=\u001b[0m \u001b[0mconstruct_1d_arraylike_from_scalar\u001b[0m\u001b[0;34m(\u001b[0m\u001b[0mvalue\u001b[0m\u001b[0;34m,\u001b[0m \u001b[0mlen\u001b[0m\u001b[0;34m(\u001b[0m\u001b[0mindex\u001b[0m\u001b[0;34m)\u001b[0m\u001b[0;34m,\u001b[0m \u001b[0mdtype\u001b[0m\u001b[0;34m)\u001b[0m\u001b[0;34m\u001b[0m\u001b[0;34m\u001b[0m\u001b[0m\n\u001b[0m\u001b[1;32m    466\u001b[0m \u001b[0;34m\u001b[0m\u001b[0m\n\u001b[1;32m    467\u001b[0m         \u001b[0;32melse\u001b[0m\u001b[0;34m:\u001b[0m\u001b[0;34m\u001b[0m\u001b[0;34m\u001b[0m\u001b[0m\n",
      "\u001b[0;32m~/opt/anaconda3/lib/python3.8/site-packages/pandas/core/dtypes/cast.py\u001b[0m in \u001b[0;36mconstruct_1d_arraylike_from_scalar\u001b[0;34m(value, length, dtype)\u001b[0m\n\u001b[1;32m   1450\u001b[0m                 \u001b[0mvalue\u001b[0m \u001b[0;34m=\u001b[0m \u001b[0mensure_str\u001b[0m\u001b[0;34m(\u001b[0m\u001b[0mvalue\u001b[0m\u001b[0;34m)\u001b[0m\u001b[0;34m\u001b[0m\u001b[0;34m\u001b[0m\u001b[0m\n\u001b[1;32m   1451\u001b[0m \u001b[0;34m\u001b[0m\u001b[0m\n\u001b[0;32m-> 1452\u001b[0;31m         \u001b[0msubarr\u001b[0m \u001b[0;34m=\u001b[0m \u001b[0mnp\u001b[0m\u001b[0;34m.\u001b[0m\u001b[0mempty\u001b[0m\u001b[0;34m(\u001b[0m\u001b[0mlength\u001b[0m\u001b[0;34m,\u001b[0m \u001b[0mdtype\u001b[0m\u001b[0;34m=\u001b[0m\u001b[0mdtype\u001b[0m\u001b[0;34m)\u001b[0m\u001b[0;34m\u001b[0m\u001b[0;34m\u001b[0m\u001b[0m\n\u001b[0m\u001b[1;32m   1453\u001b[0m         \u001b[0msubarr\u001b[0m\u001b[0;34m.\u001b[0m\u001b[0mfill\u001b[0m\u001b[0;34m(\u001b[0m\u001b[0mvalue\u001b[0m\u001b[0;34m)\u001b[0m\u001b[0;34m\u001b[0m\u001b[0;34m\u001b[0m\u001b[0m\n\u001b[1;32m   1454\u001b[0m \u001b[0;34m\u001b[0m\u001b[0m\n",
      "\u001b[0;31mTypeError\u001b[0m: Cannot interpret '<attribute 'dtype' of 'numpy.generic' objects>' as a data type"
     ]
    }
   ],
   "source": [
    "df.info()"
   ]
  },
  {
   "cell_type": "code",
   "execution_count": 6,
   "metadata": {},
   "outputs": [
    {
     "data": {
      "text/html": [
       "<div>\n",
       "<style scoped>\n",
       "    .dataframe tbody tr th:only-of-type {\n",
       "        vertical-align: middle;\n",
       "    }\n",
       "\n",
       "    .dataframe tbody tr th {\n",
       "        vertical-align: top;\n",
       "    }\n",
       "\n",
       "    .dataframe thead th {\n",
       "        text-align: right;\n",
       "    }\n",
       "</style>\n",
       "<table border=\"1\" class=\"dataframe\">\n",
       "  <thead>\n",
       "    <tr style=\"text-align: right;\">\n",
       "      <th></th>\n",
       "      <th>Environmental SCORE</th>\n",
       "      <th>Social SCORE</th>\n",
       "      <th>Governance SCORE</th>\n",
       "      <th>Target</th>\n",
       "    </tr>\n",
       "  </thead>\n",
       "  <tbody>\n",
       "    <tr>\n",
       "      <th>count</th>\n",
       "      <td>746.000000</td>\n",
       "      <td>746.000000</td>\n",
       "      <td>746.000000</td>\n",
       "      <td>746.000000</td>\n",
       "    </tr>\n",
       "    <tr>\n",
       "      <th>mean</th>\n",
       "      <td>4.486729</td>\n",
       "      <td>4.417158</td>\n",
       "      <td>5.175201</td>\n",
       "      <td>0.474531</td>\n",
       "    </tr>\n",
       "    <tr>\n",
       "      <th>std</th>\n",
       "      <td>2.437189</td>\n",
       "      <td>1.325557</td>\n",
       "      <td>1.022506</td>\n",
       "      <td>0.499686</td>\n",
       "    </tr>\n",
       "    <tr>\n",
       "      <th>min</th>\n",
       "      <td>0.000000</td>\n",
       "      <td>0.400000</td>\n",
       "      <td>1.100000</td>\n",
       "      <td>0.000000</td>\n",
       "    </tr>\n",
       "    <tr>\n",
       "      <th>25%</th>\n",
       "      <td>2.700000</td>\n",
       "      <td>3.500000</td>\n",
       "      <td>4.600000</td>\n",
       "      <td>0.000000</td>\n",
       "    </tr>\n",
       "    <tr>\n",
       "      <th>50%</th>\n",
       "      <td>4.500000</td>\n",
       "      <td>4.200000</td>\n",
       "      <td>5.300000</td>\n",
       "      <td>0.000000</td>\n",
       "    </tr>\n",
       "    <tr>\n",
       "      <th>75%</th>\n",
       "      <td>6.300000</td>\n",
       "      <td>5.300000</td>\n",
       "      <td>5.900000</td>\n",
       "      <td>1.000000</td>\n",
       "    </tr>\n",
       "    <tr>\n",
       "      <th>max</th>\n",
       "      <td>10.000000</td>\n",
       "      <td>9.600000</td>\n",
       "      <td>7.600000</td>\n",
       "      <td>1.000000</td>\n",
       "    </tr>\n",
       "  </tbody>\n",
       "</table>\n",
       "</div>"
      ],
      "text/plain": [
       "       Environmental SCORE  Social SCORE  Governance SCORE      Target\n",
       "count           746.000000    746.000000        746.000000  746.000000\n",
       "mean              4.486729      4.417158          5.175201    0.474531\n",
       "std               2.437189      1.325557          1.022506    0.499686\n",
       "min               0.000000      0.400000          1.100000    0.000000\n",
       "25%               2.700000      3.500000          4.600000    0.000000\n",
       "50%               4.500000      4.200000          5.300000    0.000000\n",
       "75%               6.300000      5.300000          5.900000    1.000000\n",
       "max              10.000000      9.600000          7.600000    1.000000"
      ]
     },
     "execution_count": 6,
     "metadata": {},
     "output_type": "execute_result"
    }
   ],
   "source": [
    "df.describe()"
   ]
  },
  {
   "cell_type": "code",
   "execution_count": 7,
   "metadata": {},
   "outputs": [
    {
     "data": {
      "text/html": [
       "<div>\n",
       "<style scoped>\n",
       "    .dataframe tbody tr th:only-of-type {\n",
       "        vertical-align: middle;\n",
       "    }\n",
       "\n",
       "    .dataframe tbody tr th {\n",
       "        vertical-align: top;\n",
       "    }\n",
       "\n",
       "    .dataframe thead th {\n",
       "        text-align: right;\n",
       "    }\n",
       "</style>\n",
       "<table border=\"1\" class=\"dataframe\">\n",
       "  <thead>\n",
       "    <tr style=\"text-align: right;\">\n",
       "      <th></th>\n",
       "      <th>Ticker</th>\n",
       "      <th>Company Name</th>\n",
       "      <th>Country</th>\n",
       "      <th>Sector</th>\n",
       "      <th>Subsector</th>\n",
       "      <th>Assets</th>\n",
       "      <th>Cash and Cash Equivalents, at Carrying Value</th>\n",
       "      <th>Final Revenue</th>\n",
       "      <th>Gross Profit</th>\n",
       "      <th>Income from Continuing Operations before Taxes</th>\n",
       "      <th>Operating Income (Loss)</th>\n",
       "      <th>Total Equity</th>\n",
       "      <th>Total Liabilities and Equity</th>\n",
       "      <th>Net Income (Loss)</th>\n",
       "      <th>Cash and Cash Equivalents, Period Increase (Decrease)</th>\n",
       "    </tr>\n",
       "  </thead>\n",
       "  <tbody>\n",
       "    <tr>\n",
       "      <th>count</th>\n",
       "      <td>746</td>\n",
       "      <td>746</td>\n",
       "      <td>746</td>\n",
       "      <td>746</td>\n",
       "      <td>746</td>\n",
       "      <td>707</td>\n",
       "      <td>690</td>\n",
       "      <td>622</td>\n",
       "      <td>371</td>\n",
       "      <td>504</td>\n",
       "      <td>618</td>\n",
       "      <td>674</td>\n",
       "      <td>706</td>\n",
       "      <td>673</td>\n",
       "      <td>533</td>\n",
       "    </tr>\n",
       "    <tr>\n",
       "      <th>unique</th>\n",
       "      <td>717</td>\n",
       "      <td>746</td>\n",
       "      <td>1</td>\n",
       "      <td>61</td>\n",
       "      <td>107</td>\n",
       "      <td>681</td>\n",
       "      <td>658</td>\n",
       "      <td>584</td>\n",
       "      <td>358</td>\n",
       "      <td>489</td>\n",
       "      <td>587</td>\n",
       "      <td>653</td>\n",
       "      <td>680</td>\n",
       "      <td>639</td>\n",
       "      <td>506</td>\n",
       "    </tr>\n",
       "    <tr>\n",
       "      <th>top</th>\n",
       "      <td>CHTR</td>\n",
       "      <td>PAYPAL HOLDINGS, INC</td>\n",
       "      <td>US</td>\n",
       "      <td>Banks</td>\n",
       "      <td>Biotechnology</td>\n",
       "      <td>40,524,000,000</td>\n",
       "      <td>1,278,000,000</td>\n",
       "      <td>0</td>\n",
       "      <td>447,091,000</td>\n",
       "      <td>194,910,000</td>\n",
       "      <td>302,000,000</td>\n",
       "      <td>14,756,000,000</td>\n",
       "      <td>40,524,000,000</td>\n",
       "      <td>-188,000,000</td>\n",
       "      <td>1,273,000,000</td>\n",
       "    </tr>\n",
       "    <tr>\n",
       "      <th>freq</th>\n",
       "      <td>4</td>\n",
       "      <td>1</td>\n",
       "      <td>746</td>\n",
       "      <td>92</td>\n",
       "      <td>87</td>\n",
       "      <td>4</td>\n",
       "      <td>4</td>\n",
       "      <td>13</td>\n",
       "      <td>2</td>\n",
       "      <td>2</td>\n",
       "      <td>4</td>\n",
       "      <td>2</td>\n",
       "      <td>4</td>\n",
       "      <td>4</td>\n",
       "      <td>4</td>\n",
       "    </tr>\n",
       "  </tbody>\n",
       "</table>\n",
       "</div>"
      ],
      "text/plain": [
       "       Ticker          Company Name Country Sector      Subsector  \\\n",
       "count     746                   746     746    746            746   \n",
       "unique    717                   746       1     61            107   \n",
       "top      CHTR  PAYPAL HOLDINGS, INC      US  Banks  Biotechnology   \n",
       "freq        4                     1     746     92             87   \n",
       "\n",
       "                Assets Cash and Cash Equivalents, at Carrying Value  \\\n",
       "count              707                                          690   \n",
       "unique             681                                          658   \n",
       "top     40,524,000,000                                1,278,000,000   \n",
       "freq                 4                                            4   \n",
       "\n",
       "       Final Revenue Gross Profit  \\\n",
       "count            622          371   \n",
       "unique           584          358   \n",
       "top                0  447,091,000   \n",
       "freq              13            2   \n",
       "\n",
       "       Income from Continuing Operations before Taxes Operating Income (Loss)  \\\n",
       "count                                             504                     618   \n",
       "unique                                            489                     587   \n",
       "top                                       194,910,000             302,000,000   \n",
       "freq                                                2                       4   \n",
       "\n",
       "          Total Equity Total Liabilities and Equity Net Income (Loss)  \\\n",
       "count              674                          706               673   \n",
       "unique             653                          680               639   \n",
       "top     14,756,000,000               40,524,000,000      -188,000,000   \n",
       "freq                 2                            4                 4   \n",
       "\n",
       "       Cash and Cash Equivalents, Period Increase (Decrease)  \n",
       "count                                                 533     \n",
       "unique                                                506     \n",
       "top                                         1,273,000,000     \n",
       "freq                                                    4     "
      ]
     },
     "execution_count": 7,
     "metadata": {},
     "output_type": "execute_result"
    }
   ],
   "source": [
    "df.describe(exclude=[np.number])  "
   ]
  },
  {
   "cell_type": "code",
   "execution_count": 8,
   "metadata": {},
   "outputs": [
    {
     "data": {
      "text/plain": [
       "Index(['Ticker', 'Company Name', 'Country', 'Sector', 'Subsector',\n",
       "       'Environmental SCORE', 'Social SCORE', 'Governance SCORE', 'Assets',\n",
       "       'Cash and Cash Equivalents, at Carrying Value', 'Final Revenue',\n",
       "       'Gross Profit', 'Income from Continuing Operations before Taxes',\n",
       "       'Operating Income (Loss)', 'Total Equity',\n",
       "       'Total Liabilities and Equity', 'Net Income (Loss)',\n",
       "       'Cash and Cash Equivalents, Period Increase (Decrease)', 'Target'],\n",
       "      dtype='object')"
      ]
     },
     "execution_count": 8,
     "metadata": {},
     "output_type": "execute_result"
    }
   ],
   "source": [
    "df.columns"
   ]
  },
  {
   "cell_type": "markdown",
   "metadata": {},
   "source": [
    "## 3. Basic Data Transformation"
   ]
  },
  {
   "cell_type": "code",
   "execution_count": null,
   "metadata": {},
   "outputs": [],
   "source": [
    "def convert_to_numerical(row):\n",
    "    if isinstance(row, float):\n",
    "        return 0\n",
    "    else:\n",
    "        return int(row.replace(',',''))"
   ]
  },
  {
   "cell_type": "code",
   "execution_count": null,
   "metadata": {},
   "outputs": [],
   "source": [
    "df['Assets'] = df['Assets'].apply(lambda x: convert_to_numerical(x))\n",
    "df['Cash and Cash Equivalents, at Carrying Value'] = df['Cash and Cash Equivalents, at Carrying Value'].apply(lambda x: convert_to_numerical(x))\n",
    "df['Final Revenue'] = df['Final Revenue'].apply(lambda x: convert_to_numerical(x))\n",
    "df['Gross Profit'] = df['Gross Profit'].apply(lambda x: convert_to_numerical(x))\n",
    "df['Income from Continuing Operations before Taxes'] = df['Income from Continuing Operations before Taxes'].apply(lambda x: convert_to_numerical(x))\n",
    "df['Operating Income (Loss)'] = df['Operating Income (Loss)'].apply(lambda x: convert_to_numerical(x))\n",
    "df['Total Equity'] = df['Total Equity'].apply(lambda x: convert_to_numerical(x))\n",
    "df['Total Liabilities and Equity'] = df['Total Liabilities and Equity'].apply(lambda x: convert_to_numerical(x))\n",
    "df['Net Income (Loss)'] = df['Net Income (Loss)'].apply(lambda x: convert_to_numerical(x))\n",
    "df['Cash and Cash Equivalents, Period Increase (Decrease)'] = df['Cash and Cash Equivalents, Period Increase (Decrease)'].apply(lambda x: convert_to_numerical(x))"
   ]
  },
  {
   "cell_type": "code",
   "execution_count": null,
   "metadata": {},
   "outputs": [],
   "source": [
    "df.describe()"
   ]
  },
  {
   "cell_type": "code",
   "execution_count": null,
   "metadata": {},
   "outputs": [],
   "source": [
    "df.describe(exclude=[np.number])  "
   ]
  },
  {
   "cell_type": "code",
   "execution_count": null,
   "metadata": {},
   "outputs": [],
   "source": [
    "le = preprocessing.LabelEncoder()\n",
    "\n",
    "df['country_label'] = le.fit_transform(df['Country'])\n",
    "df['sector_label'] = le.fit_transform(df['Sector'])\n",
    "df['subsector_label'] = le.fit_transform(df['Subsector'])"
   ]
  },
  {
   "cell_type": "code",
   "execution_count": null,
   "metadata": {},
   "outputs": [],
   "source": [
    "df.describe()"
   ]
  },
  {
   "cell_type": "markdown",
   "metadata": {},
   "source": [
    "# Should we keep 'country_label' column?\n",
    "\n",
    "\n"
   ]
  },
  {
   "cell_type": "code",
   "execution_count": null,
   "metadata": {},
   "outputs": [],
   "source": [
    "# drop unused columns -  Company Name, Country, Sector, Subsector\n",
    "dropped_columns = ['Ticker', 'Company Name', 'Country', 'country_label', 'Sector', 'Subsector']\n",
    "\n",
    "df.drop(dropped_columns, axis=1, inplace=True)\n",
    "df.shape"
   ]
  },
  {
   "cell_type": "markdown",
   "metadata": {},
   "source": [
    "## 4. Prepare Data for Machine Learning Model"
   ]
  },
  {
   "cell_type": "code",
   "execution_count": null,
   "metadata": {},
   "outputs": [],
   "source": [
    "Why do we need to split dataset?\n",
    "What is training dataset?\n",
    "What is testing dataset?"
   ]
  },
  {
   "cell_type": "code",
   "execution_count": null,
   "metadata": {},
   "outputs": [],
   "source": [
    "X = df.drop('Target', axis=1)\n",
    "y = df.Target\n",
    "\n",
    "X_train, X_test, y_train, y_test = train_test_split(X, y, test_size=0.20, random_state=42)"
   ]
  },
  {
   "cell_type": "markdown",
   "metadata": {},
   "source": [
    "## 5. Basic Machine Learning Models"
   ]
  },
  {
   "cell_type": "code",
   "execution_count": null,
   "metadata": {},
   "outputs": [],
   "source": [
    "what is accuracy? "
   ]
  },
  {
   "cell_type": "code",
   "execution_count": null,
   "metadata": {},
   "outputs": [],
   "source": [
    "def print_score(y_true, y_pred):\n",
    "    print('Accuracy: ', accuracy_score(y_true, y_pred))"
   ]
  },
  {
   "cell_type": "code",
   "execution_count": null,
   "metadata": {},
   "outputs": [],
   "source": [
    "# Logistics Regression\n",
    "clf = LogisticRegression(random_state=0).fit(X_train, y_train)\n",
    "\n",
    "y_pred = clf.predict(X_test)\n",
    "print_score(y_test, y_pred)"
   ]
  },
  {
   "cell_type": "code",
   "execution_count": null,
   "metadata": {},
   "outputs": [],
   "source": [
    "# decision tree\n",
    "clf = tree.DecisionTreeClassifier().fit(X_train, y_train)\n",
    "y_pred = clf.predict(X_test)\n",
    "\n",
    "print_score(y_test, y_pred)"
   ]
  },
  {
   "cell_type": "code",
   "execution_count": null,
   "metadata": {},
   "outputs": [],
   "source": [
    "# random forest\n",
    "clf = RandomForestClassifier().fit(X_train, y_train)\n",
    "y_pred = clf.predict(X_test)\n",
    "\n",
    "print_score(y_test, y_pred)"
   ]
  },
  {
   "cell_type": "code",
   "execution_count": null,
   "metadata": {},
   "outputs": [],
   "source": [
    "Which model isthe best?"
   ]
  },
  {
   "cell_type": "markdown",
   "metadata": {},
   "source": [
    "## 6. Evaluate Performance"
   ]
  },
  {
   "cell_type": "code",
   "execution_count": null,
   "metadata": {},
   "outputs": [],
   "source": [
    "There are other performance metrics such as recall, F1 score"
   ]
  },
  {
   "cell_type": "code",
   "execution_count": null,
   "metadata": {},
   "outputs": [],
   "source": [
    "Additional Acitivity\n",
    "\n",
    "- Create new column: e.g., calculate financial raito and create new column\n",
    "- Validate the model (e.g., train-test,validate?) fidn the best optimal parameters \n",
    "- Using different metrics e.g., f1 score"
   ]
  }
 ],
 "metadata": {
  "kernelspec": {
   "display_name": "Python 3",
   "language": "python",
   "name": "python3"
  },
  "language_info": {
   "codemirror_mode": {
    "name": "ipython",
    "version": 3
   },
   "file_extension": ".py",
   "mimetype": "text/x-python",
   "name": "python",
   "nbconvert_exporter": "python",
   "pygments_lexer": "ipython3",
   "version": "3.8.3"
  }
 },
 "nbformat": 4,
 "nbformat_minor": 4
}
