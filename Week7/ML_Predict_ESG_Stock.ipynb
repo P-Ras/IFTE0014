{
 "cells": [
  {
   "cell_type": "markdown",
   "metadata": {},
   "source": [
    "# ESG Stock Selection"
   ]
  },
  {
   "cell_type": "markdown",
   "metadata": {},
   "source": [
    "This project aims to build simple classification models to predict whether the U.S. stock will be added to the ESG portfolio. It is a binary classification problem where each asset has a target variable with a value of one, meaning that the stock is added to the ESG portfolio with the overall ESG score more than or equal to five and zero otherwise. \n",
    "\n",
    "This project is a simulation to help students understand the machine learning process widely used in the financial industries to help select the asset. The dataset contains  746 U.S. stocks that were preprocessed and merged from two sources:  \n",
    "1. https://www.kaggle.com/datasets/finintelligence/nasdaq-financial-fundamentals \n",
    "2. https://www.kaggle.com/datasets/debashish311601/esg-scores-and-ratings?resource=download\n",
    "\n",
    "\n",
    "The dataset contains outdated fundamental data and has not been entirely verified. Hence, using this dataset for personal academic assignments is not recommended. The information is not intended as financial advice and shall not be understood or construed as financial advice.\n",
    "\n",
    "The process are inspired by the paper 'Heterogeneous Ensemble for ESG Ratings Prediction' by Krappel, Boggun and Borth (2021). They collected fundamental data and built ML model to predict the ESG score. https://arxiv.org/abs/2109.10085"
   ]
  },
  {
   "cell_type": "markdown",
   "metadata": {},
   "source": [
    "This Jupyter notebook will outline the following processes: \n",
    "    \n",
    "1. Import the data\n",
    "2. Data Analysis\n",
    "3. Basic Data Transformation\n",
    "4. Prepare Data for Machine Learning Model\n",
    "5. Basic Machine Learning Models and Evaluate Performance\n",
    "6. Key takeaways"
   ]
  },
  {
   "cell_type": "markdown",
   "metadata": {},
   "source": [
    "## 1. Import the data"
   ]
  },
  {
   "cell_type": "code",
   "execution_count": 1,
   "metadata": {},
   "outputs": [],
   "source": [
    "# import the library that we will use for this project\n",
    "# Pandas is popular Python library used in data analysis and manipulation https://pandas.pydata.org/\n",
    "# Numpy is another library for working on arrays and matrices https://numpy.org/\n",
    "# You will see more usecases of Pandas and Numpy in the next semester.\n",
    " \n",
    "import pandas as pd\n",
    "import numpy as np"
   ]
  },
  {
   "cell_type": "code",
   "execution_count": 2,
   "metadata": {},
   "outputs": [],
   "source": [
    "# declare variable called FILE_NAME in capital letters \n",
    "\n",
    "# Usually we declare in capital letters to seprate them from other variables \n",
    "# to let reader know that we do not want to reassign the value to this variable.\n",
    "# However, this approach does not actually prevent reassignment. \n",
    "\n",
    "FILE_NAME = 'US_Stock_ESG_and_Fundamental_seminar.csv'"
   ]
  },
  {
   "cell_type": "code",
   "execution_count": 3,
   "metadata": {},
   "outputs": [
    {
     "data": {
      "text/html": [
       "<div>\n",
       "<style scoped>\n",
       "    .dataframe tbody tr th:only-of-type {\n",
       "        vertical-align: middle;\n",
       "    }\n",
       "\n",
       "    .dataframe tbody tr th {\n",
       "        vertical-align: top;\n",
       "    }\n",
       "\n",
       "    .dataframe thead th {\n",
       "        text-align: right;\n",
       "    }\n",
       "</style>\n",
       "<table border=\"1\" class=\"dataframe\">\n",
       "  <thead>\n",
       "    <tr style=\"text-align: right;\">\n",
       "      <th></th>\n",
       "      <th>Ticker</th>\n",
       "      <th>Company Name</th>\n",
       "      <th>Country</th>\n",
       "      <th>Sector</th>\n",
       "      <th>Subsector</th>\n",
       "      <th>Environmental SCORE</th>\n",
       "      <th>Social SCORE</th>\n",
       "      <th>Governance SCORE</th>\n",
       "      <th>Assets</th>\n",
       "      <th>Cash and Cash Equivalents, at Carrying Value</th>\n",
       "      <th>Final Revenue</th>\n",
       "      <th>Gross Profit</th>\n",
       "      <th>Income from Continuing Operations before Taxes</th>\n",
       "      <th>Operating Income (Loss)</th>\n",
       "      <th>Total Equity</th>\n",
       "      <th>Total Liabilities and Equity</th>\n",
       "      <th>Net Income (Loss)</th>\n",
       "      <th>Cash and Cash Equivalents, Period Increase (Decrease)</th>\n",
       "      <th>Target</th>\n",
       "    </tr>\n",
       "  </thead>\n",
       "  <tbody>\n",
       "    <tr>\n",
       "      <th>0</th>\n",
       "      <td>FLWS</td>\n",
       "      <td>1-800-FLOWERSCOM, INC</td>\n",
       "      <td>US</td>\n",
       "      <td>Retail - Consumer Discretionary</td>\n",
       "      <td>Internet &amp; Direct Marketing Retail</td>\n",
       "      <td>1.2</td>\n",
       "      <td>6.7</td>\n",
       "      <td>3.8</td>\n",
       "      <td>536,570,000</td>\n",
       "      <td>61,696,000</td>\n",
       "      <td>234,207,000</td>\n",
       "      <td>96,721,000</td>\n",
       "      <td>-14,620,000</td>\n",
       "      <td>-13,236,000</td>\n",
       "      <td>249,186,000</td>\n",
       "      <td>536,570,000</td>\n",
       "      <td>NaN</td>\n",
       "      <td>NaN</td>\n",
       "      <td>1</td>\n",
       "    </tr>\n",
       "    <tr>\n",
       "      <th>1</th>\n",
       "      <td>SRCE</td>\n",
       "      <td>1ST SOURCE CORPORATION</td>\n",
       "      <td>US</td>\n",
       "      <td>Banks</td>\n",
       "      <td>Regional Banks</td>\n",
       "      <td>0.0</td>\n",
       "      <td>2.6</td>\n",
       "      <td>4.7</td>\n",
       "      <td>5,245,610,000</td>\n",
       "      <td>85,227,000</td>\n",
       "      <td>NaN</td>\n",
       "      <td>NaN</td>\n",
       "      <td>21,236,000</td>\n",
       "      <td>NaN</td>\n",
       "      <td>649,973,000</td>\n",
       "      <td>5,245,610,000</td>\n",
       "      <td>13,818,000</td>\n",
       "      <td>NaN</td>\n",
       "      <td>0</td>\n",
       "    </tr>\n",
       "    <tr>\n",
       "      <th>2</th>\n",
       "      <td>TWOU</td>\n",
       "      <td>2U, INC</td>\n",
       "      <td>US</td>\n",
       "      <td>Software &amp; Services</td>\n",
       "      <td>Education Services</td>\n",
       "      <td>4.7</td>\n",
       "      <td>4.7</td>\n",
       "      <td>6.3</td>\n",
       "      <td>236,718,000</td>\n",
       "      <td>186,710,000</td>\n",
       "      <td>47,444,000</td>\n",
       "      <td>NaN</td>\n",
       "      <td>NaN</td>\n",
       "      <td>-3,446,000</td>\n",
       "      <td>196,623,000</td>\n",
       "      <td>236,718,000</td>\n",
       "      <td>-3,380,000</td>\n",
       "      <td>2,981,000</td>\n",
       "      <td>1</td>\n",
       "    </tr>\n",
       "    <tr>\n",
       "      <th>3</th>\n",
       "      <td>AAON</td>\n",
       "      <td>AAON, INC</td>\n",
       "      <td>US</td>\n",
       "      <td>Building Products</td>\n",
       "      <td>Building Products</td>\n",
       "      <td>5.0</td>\n",
       "      <td>7.0</td>\n",
       "      <td>5.6</td>\n",
       "      <td>236,669,000</td>\n",
       "      <td>17,248,000</td>\n",
       "      <td>85,422,000</td>\n",
       "      <td>25,731,000</td>\n",
       "      <td>25,731,000</td>\n",
       "      <td>16,826,000</td>\n",
       "      <td>NaN</td>\n",
       "      <td>236,669,000</td>\n",
       "      <td>11,551,000</td>\n",
       "      <td>9,340,000</td>\n",
       "      <td>1</td>\n",
       "    </tr>\n",
       "    <tr>\n",
       "      <th>4</th>\n",
       "      <td>ABMD</td>\n",
       "      <td>ABIOMED, INC</td>\n",
       "      <td>US</td>\n",
       "      <td>Health Care Equipment &amp; Supplies</td>\n",
       "      <td>Health Care Equipment</td>\n",
       "      <td>6.5</td>\n",
       "      <td>7.6</td>\n",
       "      <td>4.9</td>\n",
       "      <td>423,931,000</td>\n",
       "      <td>48,231,000</td>\n",
       "      <td>93,957,000</td>\n",
       "      <td>NaN</td>\n",
       "      <td>NaN</td>\n",
       "      <td>19,813,000</td>\n",
       "      <td>368,775,000</td>\n",
       "      <td>423,931,000</td>\n",
       "      <td>10,998,000</td>\n",
       "      <td>NaN</td>\n",
       "      <td>1</td>\n",
       "    </tr>\n",
       "  </tbody>\n",
       "</table>\n",
       "</div>"
      ],
      "text/plain": [
       "  Ticker            Company Name Country                            Sector  \\\n",
       "0   FLWS   1-800-FLOWERSCOM, INC      US   Retail - Consumer Discretionary   \n",
       "1   SRCE  1ST SOURCE CORPORATION      US                             Banks   \n",
       "2   TWOU                 2U, INC      US               Software & Services   \n",
       "3   AAON               AAON, INC      US                 Building Products   \n",
       "4   ABMD            ABIOMED, INC      US  Health Care Equipment & Supplies   \n",
       "\n",
       "                            Subsector  Environmental SCORE  Social SCORE  \\\n",
       "0  Internet & Direct Marketing Retail                  1.2           6.7   \n",
       "1                      Regional Banks                  0.0           2.6   \n",
       "2                  Education Services                  4.7           4.7   \n",
       "3                   Building Products                  5.0           7.0   \n",
       "4               Health Care Equipment                  6.5           7.6   \n",
       "\n",
       "   Governance SCORE         Assets  \\\n",
       "0               3.8    536,570,000   \n",
       "1               4.7  5,245,610,000   \n",
       "2               6.3    236,718,000   \n",
       "3               5.6    236,669,000   \n",
       "4               4.9    423,931,000   \n",
       "\n",
       "  Cash and Cash Equivalents, at Carrying Value Final Revenue Gross Profit  \\\n",
       "0                                   61,696,000   234,207,000   96,721,000   \n",
       "1                                   85,227,000           NaN          NaN   \n",
       "2                                  186,710,000    47,444,000          NaN   \n",
       "3                                   17,248,000    85,422,000   25,731,000   \n",
       "4                                   48,231,000    93,957,000          NaN   \n",
       "\n",
       "  Income from Continuing Operations before Taxes Operating Income (Loss)  \\\n",
       "0                                    -14,620,000             -13,236,000   \n",
       "1                                     21,236,000                     NaN   \n",
       "2                                            NaN              -3,446,000   \n",
       "3                                     25,731,000              16,826,000   \n",
       "4                                            NaN              19,813,000   \n",
       "\n",
       "  Total Equity Total Liabilities and Equity Net Income (Loss)  \\\n",
       "0  249,186,000                  536,570,000               NaN   \n",
       "1  649,973,000                5,245,610,000        13,818,000   \n",
       "2  196,623,000                  236,718,000        -3,380,000   \n",
       "3          NaN                  236,669,000        11,551,000   \n",
       "4  368,775,000                  423,931,000        10,998,000   \n",
       "\n",
       "  Cash and Cash Equivalents, Period Increase (Decrease)  Target  \n",
       "0                                                NaN          1  \n",
       "1                                                NaN          0  \n",
       "2                                          2,981,000          1  \n",
       "3                                          9,340,000          1  \n",
       "4                                                NaN          1  "
      ]
     },
     "execution_count": 3,
     "metadata": {},
     "output_type": "execute_result"
    }
   ],
   "source": [
    "# Read csv file to create DataFrame\n",
    "# DataFrame is two-dimensional data strcutures that has columns and rows.\n",
    "\n",
    "df = pd.read_csv(<>, index_col=0) #use the first column as the index\n",
    "df.<> #show the first 5 rows of the DataFrame"
   ]
  },
  {
   "cell_type": "code",
   "execution_count": 4,
   "metadata": {},
   "outputs": [
    {
     "data": {
      "text/plain": [
       "(746, 19)"
      ]
     },
     "execution_count": 4,
     "metadata": {},
     "output_type": "execute_result"
    }
   ],
   "source": [
    "# show the size of dataset (number of rows, number of columns)\n",
    "df.shape"
   ]
  },
  {
   "cell_type": "markdown",
   "metadata": {},
   "source": [
    "## 2. Data Analysis"
   ]
  },
  {
   "cell_type": "code",
   "execution_count": 5,
   "metadata": {},
   "outputs": [
    {
     "name": "stdout",
     "output_type": "stream",
     "text": [
      "<class 'pandas.core.frame.DataFrame'>\n",
      "Int64Index: 746 entries, 0 to 745\n",
      "Data columns (total 19 columns):\n",
      " #   Column                                                 Non-Null Count  Dtype  \n",
      "---  ------                                                 --------------  -----  \n",
      " 0   Ticker                                                 746 non-null    object \n",
      " 1   Company Name                                           746 non-null    object \n",
      " 2   Country                                                746 non-null    object \n",
      " 3   Sector                                                 746 non-null    object \n",
      " 4   Subsector                                              746 non-null    object \n",
      " 5   Environmental SCORE                                    746 non-null    float64\n",
      " 6   Social SCORE                                           746 non-null    float64\n",
      " 7   Governance SCORE                                       746 non-null    float64\n",
      " 8   Assets                                                 707 non-null    object \n",
      " 9   Cash and Cash Equivalents, at Carrying Value           690 non-null    object \n",
      " 10  Final Revenue                                          622 non-null    object \n",
      " 11  Gross Profit                                           371 non-null    object \n",
      " 12  Income from Continuing Operations before Taxes         504 non-null    object \n",
      " 13  Operating Income (Loss)                                618 non-null    object \n",
      " 14  Total Equity                                           674 non-null    object \n",
      " 15  Total Liabilities and Equity                           706 non-null    object \n",
      " 16  Net Income (Loss)                                      673 non-null    object \n",
      " 17  Cash and Cash Equivalents, Period Increase (Decrease)  533 non-null    object \n",
      " 18  Target                                                 746 non-null    int64  \n",
      "dtypes: float64(3), int64(1), object(15)\n",
      "memory usage: 116.6+ KB\n"
     ]
    }
   ],
   "source": [
    "# Giving a summary of the dataframe\n",
    "# including the index dtype and columns, non-null values and memory usage.\n",
    "df.info()"
   ]
  },
  {
   "cell_type": "markdown",
   "metadata": {},
   "source": [
    "There are many built-in data types available in Python. You can check from this site: https://www.w3schools.com/python/python_datatypes.asp "
   ]
  },
  {
   "cell_type": "code",
   "execution_count": 6,
   "metadata": {},
   "outputs": [
    {
     "data": {
      "text/html": [
       "<div>\n",
       "<style scoped>\n",
       "    .dataframe tbody tr th:only-of-type {\n",
       "        vertical-align: middle;\n",
       "    }\n",
       "\n",
       "    .dataframe tbody tr th {\n",
       "        vertical-align: top;\n",
       "    }\n",
       "\n",
       "    .dataframe thead th {\n",
       "        text-align: right;\n",
       "    }\n",
       "</style>\n",
       "<table border=\"1\" class=\"dataframe\">\n",
       "  <thead>\n",
       "    <tr style=\"text-align: right;\">\n",
       "      <th></th>\n",
       "      <th>Environmental SCORE</th>\n",
       "      <th>Social SCORE</th>\n",
       "      <th>Governance SCORE</th>\n",
       "      <th>Target</th>\n",
       "    </tr>\n",
       "  </thead>\n",
       "  <tbody>\n",
       "    <tr>\n",
       "      <th>count</th>\n",
       "      <td>746.000000</td>\n",
       "      <td>746.000000</td>\n",
       "      <td>746.000000</td>\n",
       "      <td>746.000000</td>\n",
       "    </tr>\n",
       "    <tr>\n",
       "      <th>mean</th>\n",
       "      <td>4.486729</td>\n",
       "      <td>4.417158</td>\n",
       "      <td>5.175201</td>\n",
       "      <td>0.474531</td>\n",
       "    </tr>\n",
       "    <tr>\n",
       "      <th>std</th>\n",
       "      <td>2.437189</td>\n",
       "      <td>1.325557</td>\n",
       "      <td>1.022506</td>\n",
       "      <td>0.499686</td>\n",
       "    </tr>\n",
       "    <tr>\n",
       "      <th>min</th>\n",
       "      <td>0.000000</td>\n",
       "      <td>0.400000</td>\n",
       "      <td>1.100000</td>\n",
       "      <td>0.000000</td>\n",
       "    </tr>\n",
       "    <tr>\n",
       "      <th>25%</th>\n",
       "      <td>2.700000</td>\n",
       "      <td>3.500000</td>\n",
       "      <td>4.600000</td>\n",
       "      <td>0.000000</td>\n",
       "    </tr>\n",
       "    <tr>\n",
       "      <th>50%</th>\n",
       "      <td>4.500000</td>\n",
       "      <td>4.200000</td>\n",
       "      <td>5.300000</td>\n",
       "      <td>0.000000</td>\n",
       "    </tr>\n",
       "    <tr>\n",
       "      <th>75%</th>\n",
       "      <td>6.300000</td>\n",
       "      <td>5.300000</td>\n",
       "      <td>5.900000</td>\n",
       "      <td>1.000000</td>\n",
       "    </tr>\n",
       "    <tr>\n",
       "      <th>max</th>\n",
       "      <td>10.000000</td>\n",
       "      <td>9.600000</td>\n",
       "      <td>7.600000</td>\n",
       "      <td>1.000000</td>\n",
       "    </tr>\n",
       "  </tbody>\n",
       "</table>\n",
       "</div>"
      ],
      "text/plain": [
       "       Environmental SCORE  Social SCORE  Governance SCORE      Target\n",
       "count           746.000000    746.000000        746.000000  746.000000\n",
       "mean              4.486729      4.417158          5.175201    0.474531\n",
       "std               2.437189      1.325557          1.022506    0.499686\n",
       "min               0.000000      0.400000          1.100000    0.000000\n",
       "25%               2.700000      3.500000          4.600000    0.000000\n",
       "50%               4.500000      4.200000          5.300000    0.000000\n",
       "75%               6.300000      5.300000          5.900000    1.000000\n",
       "max              10.000000      9.600000          7.600000    1.000000"
      ]
     },
     "execution_count": 6,
     "metadata": {},
     "output_type": "execute_result"
    }
   ],
   "source": [
    "# generate descriptive statistics for numeric series\n",
    "df.describe()"
   ]
  },
  {
   "cell_type": "code",
   "execution_count": 7,
   "metadata": {},
   "outputs": [
    {
     "data": {
      "text/html": [
       "<div>\n",
       "<style scoped>\n",
       "    .dataframe tbody tr th:only-of-type {\n",
       "        vertical-align: middle;\n",
       "    }\n",
       "\n",
       "    .dataframe tbody tr th {\n",
       "        vertical-align: top;\n",
       "    }\n",
       "\n",
       "    .dataframe thead th {\n",
       "        text-align: right;\n",
       "    }\n",
       "</style>\n",
       "<table border=\"1\" class=\"dataframe\">\n",
       "  <thead>\n",
       "    <tr style=\"text-align: right;\">\n",
       "      <th></th>\n",
       "      <th>Ticker</th>\n",
       "      <th>Company Name</th>\n",
       "      <th>Country</th>\n",
       "      <th>Sector</th>\n",
       "      <th>Subsector</th>\n",
       "      <th>Assets</th>\n",
       "      <th>Cash and Cash Equivalents, at Carrying Value</th>\n",
       "      <th>Final Revenue</th>\n",
       "      <th>Gross Profit</th>\n",
       "      <th>Income from Continuing Operations before Taxes</th>\n",
       "      <th>Operating Income (Loss)</th>\n",
       "      <th>Total Equity</th>\n",
       "      <th>Total Liabilities and Equity</th>\n",
       "      <th>Net Income (Loss)</th>\n",
       "      <th>Cash and Cash Equivalents, Period Increase (Decrease)</th>\n",
       "    </tr>\n",
       "  </thead>\n",
       "  <tbody>\n",
       "    <tr>\n",
       "      <th>count</th>\n",
       "      <td>746</td>\n",
       "      <td>746</td>\n",
       "      <td>746</td>\n",
       "      <td>746</td>\n",
       "      <td>746</td>\n",
       "      <td>707</td>\n",
       "      <td>690</td>\n",
       "      <td>622</td>\n",
       "      <td>371</td>\n",
       "      <td>504</td>\n",
       "      <td>618</td>\n",
       "      <td>674</td>\n",
       "      <td>706</td>\n",
       "      <td>673</td>\n",
       "      <td>533</td>\n",
       "    </tr>\n",
       "    <tr>\n",
       "      <th>unique</th>\n",
       "      <td>717</td>\n",
       "      <td>746</td>\n",
       "      <td>1</td>\n",
       "      <td>61</td>\n",
       "      <td>107</td>\n",
       "      <td>681</td>\n",
       "      <td>658</td>\n",
       "      <td>584</td>\n",
       "      <td>358</td>\n",
       "      <td>489</td>\n",
       "      <td>587</td>\n",
       "      <td>653</td>\n",
       "      <td>680</td>\n",
       "      <td>639</td>\n",
       "      <td>506</td>\n",
       "    </tr>\n",
       "    <tr>\n",
       "      <th>top</th>\n",
       "      <td>CHTR</td>\n",
       "      <td>1-800-FLOWERSCOM, INC</td>\n",
       "      <td>US</td>\n",
       "      <td>Banks</td>\n",
       "      <td>Biotechnology</td>\n",
       "      <td>40,524,000,000</td>\n",
       "      <td>1,278,000,000</td>\n",
       "      <td>0</td>\n",
       "      <td>147,447,000</td>\n",
       "      <td>8,130,000,000</td>\n",
       "      <td>302,000,000</td>\n",
       "      <td>14,756,000,000</td>\n",
       "      <td>40,524,000,000</td>\n",
       "      <td>-188,000,000</td>\n",
       "      <td>1,273,000,000</td>\n",
       "    </tr>\n",
       "    <tr>\n",
       "      <th>freq</th>\n",
       "      <td>4</td>\n",
       "      <td>1</td>\n",
       "      <td>746</td>\n",
       "      <td>92</td>\n",
       "      <td>87</td>\n",
       "      <td>4</td>\n",
       "      <td>4</td>\n",
       "      <td>13</td>\n",
       "      <td>2</td>\n",
       "      <td>2</td>\n",
       "      <td>4</td>\n",
       "      <td>2</td>\n",
       "      <td>4</td>\n",
       "      <td>4</td>\n",
       "      <td>4</td>\n",
       "    </tr>\n",
       "  </tbody>\n",
       "</table>\n",
       "</div>"
      ],
      "text/plain": [
       "       Ticker           Company Name Country Sector      Subsector  \\\n",
       "count     746                    746     746    746            746   \n",
       "unique    717                    746       1     61            107   \n",
       "top      CHTR  1-800-FLOWERSCOM, INC      US  Banks  Biotechnology   \n",
       "freq        4                      1     746     92             87   \n",
       "\n",
       "                Assets Cash and Cash Equivalents, at Carrying Value  \\\n",
       "count              707                                          690   \n",
       "unique             681                                          658   \n",
       "top     40,524,000,000                                1,278,000,000   \n",
       "freq                 4                                            4   \n",
       "\n",
       "       Final Revenue Gross Profit  \\\n",
       "count            622          371   \n",
       "unique           584          358   \n",
       "top                0  147,447,000   \n",
       "freq              13            2   \n",
       "\n",
       "       Income from Continuing Operations before Taxes Operating Income (Loss)  \\\n",
       "count                                             504                     618   \n",
       "unique                                            489                     587   \n",
       "top                                     8,130,000,000             302,000,000   \n",
       "freq                                                2                       4   \n",
       "\n",
       "          Total Equity Total Liabilities and Equity Net Income (Loss)  \\\n",
       "count              674                          706               673   \n",
       "unique             653                          680               639   \n",
       "top     14,756,000,000               40,524,000,000      -188,000,000   \n",
       "freq                 2                            4                 4   \n",
       "\n",
       "       Cash and Cash Equivalents, Period Increase (Decrease)  \n",
       "count                                                 533     \n",
       "unique                                                506     \n",
       "top                                         1,273,000,000     \n",
       "freq                                                    4     "
      ]
     },
     "execution_count": 7,
     "metadata": {},
     "output_type": "execute_result"
    }
   ],
   "source": [
    "# generate descriptive statistics for object (i.e., non-numeric) series\n",
    "df.describe(exclude=[np.number])  "
   ]
  },
  {
   "cell_type": "code",
   "execution_count": 8,
   "metadata": {},
   "outputs": [
    {
     "data": {
      "text/plain": [
       "Index(['Ticker', 'Company Name', 'Country', 'Sector', 'Subsector',\n",
       "       'Environmental SCORE', 'Social SCORE', 'Governance SCORE', 'Assets',\n",
       "       'Cash and Cash Equivalents, at Carrying Value', 'Final Revenue',\n",
       "       'Gross Profit', 'Income from Continuing Operations before Taxes',\n",
       "       'Operating Income (Loss)', 'Total Equity',\n",
       "       'Total Liabilities and Equity', 'Net Income (Loss)',\n",
       "       'Cash and Cash Equivalents, Period Increase (Decrease)', 'Target'],\n",
       "      dtype='object')"
      ]
     },
     "execution_count": 8,
     "metadata": {},
     "output_type": "execute_result"
    }
   ],
   "source": [
    "# List the columns in DataFrame\n",
    "df.columns"
   ]
  },
  {
   "cell_type": "markdown",
   "metadata": {},
   "source": [
    "## 3. Basic Data Transformation"
   ]
  },
  {
   "cell_type": "markdown",
   "metadata": {},
   "source": [
    "f you check the result from df.info(), some columns have objects as the data type instead of the numerical type such as float or integer (int)."
   ]
  },
  {
   "cell_type": "code",
   "execution_count": 9,
   "metadata": {},
   "outputs": [
    {
     "name": "stdout",
     "output_type": "stream",
     "text": [
      "536,570,000 <class 'str'>\n"
     ]
    }
   ],
   "source": [
    "# Let's check the first row of column 'Assets'\n",
    "# we can see that type(var) gives Strinng data types\n",
    "\n",
    "print(df.Assets[0], <>(df.Assets[0]))"
   ]
  },
  {
   "cell_type": "markdown",
   "metadata": {},
   "source": [
    "We want these values to be numerical data i.e., int"
   ]
  },
  {
   "cell_type": "code",
   "execution_count": 10,
   "metadata": {},
   "outputs": [],
   "source": [
    "# Create a function that help us to convert values in the column\n",
    "\n",
    "def convert_to_numerical(row):\n",
    "    if isinstance(row, float): #if the data is None or NaN i.e., missing data\n",
    "        return 0\n",
    "    else:\n",
    "        return int(row.replace(',','')) #replace comma symbol and convert string value to integer"
   ]
  },
  {
   "cell_type": "code",
   "execution_count": 11,
   "metadata": {},
   "outputs": [],
   "source": [
    "# Using lambda to apply function accorss all rows \n",
    "# https://pandas.pydata.org/docs/reference/api/pandas.DataFrame.apply.html\n",
    "\n",
    "df['Assets'] = df['Assets'].apply(lambda x: convert_to_numerical(x))\n",
    "df['Cash and Cash Equivalents, at Carrying Value'] = df['Cash and Cash Equivalents, at Carrying Value'].apply(lambda x: convert_to_numerical(x))\n",
    "df['Final Revenue'] = df['Final Revenue'].apply(lambda x: convert_to_numerical(x))\n",
    "df['Gross Profit'] = df['Gross Profit'].apply(lambda x: convert_to_numerical(x))\n",
    "df['Income from Continuing Operations before Taxes'] = df['Income from Continuing Operations before Taxes'].apply(lambda x: convert_to_numerical(x))\n",
    "df['Operating Income (Loss)'] = df['Operating Income (Loss)'].apply(lambda x: convert_to_numerical(x))\n",
    "df['Total Equity'] = df['Total Equity'].apply(lambda x: convert_to_numerical(x))\n",
    "df['Total Liabilities and Equity'] = df['Total Liabilities and Equity'].apply(lambda x: convert_to_numerical(x))\n",
    "df['Net Income (Loss)'] = df['Net Income (Loss)'].apply(lambda x: convert_to_numerical(x))\n",
    "df['Cash and Cash Equivalents, Period Increase (Decrease)'] = df['Cash and Cash Equivalents, Period Increase (Decrease)'].apply(lambda x: convert_to_numerical(x))"
   ]
  },
  {
   "cell_type": "code",
   "execution_count": 12,
   "metadata": {},
   "outputs": [
    {
     "data": {
      "text/html": [
       "<div>\n",
       "<style scoped>\n",
       "    .dataframe tbody tr th:only-of-type {\n",
       "        vertical-align: middle;\n",
       "    }\n",
       "\n",
       "    .dataframe tbody tr th {\n",
       "        vertical-align: top;\n",
       "    }\n",
       "\n",
       "    .dataframe thead th {\n",
       "        text-align: right;\n",
       "    }\n",
       "</style>\n",
       "<table border=\"1\" class=\"dataframe\">\n",
       "  <thead>\n",
       "    <tr style=\"text-align: right;\">\n",
       "      <th></th>\n",
       "      <th>Environmental SCORE</th>\n",
       "      <th>Social SCORE</th>\n",
       "      <th>Governance SCORE</th>\n",
       "      <th>Assets</th>\n",
       "      <th>Cash and Cash Equivalents, at Carrying Value</th>\n",
       "      <th>Final Revenue</th>\n",
       "      <th>Gross Profit</th>\n",
       "      <th>Income from Continuing Operations before Taxes</th>\n",
       "      <th>Operating Income (Loss)</th>\n",
       "      <th>Total Equity</th>\n",
       "      <th>Total Liabilities and Equity</th>\n",
       "      <th>Net Income (Loss)</th>\n",
       "      <th>Cash and Cash Equivalents, Period Increase (Decrease)</th>\n",
       "      <th>Target</th>\n",
       "    </tr>\n",
       "  </thead>\n",
       "  <tbody>\n",
       "    <tr>\n",
       "      <th>count</th>\n",
       "      <td>746.000000</td>\n",
       "      <td>746.000000</td>\n",
       "      <td>746.000000</td>\n",
       "      <td>7.460000e+02</td>\n",
       "      <td>7.460000e+02</td>\n",
       "      <td>7.460000e+02</td>\n",
       "      <td>7.460000e+02</td>\n",
       "      <td>7.460000e+02</td>\n",
       "      <td>7.460000e+02</td>\n",
       "      <td>7.460000e+02</td>\n",
       "      <td>7.460000e+02</td>\n",
       "      <td>7.460000e+02</td>\n",
       "      <td>7.460000e+02</td>\n",
       "      <td>746.000000</td>\n",
       "    </tr>\n",
       "    <tr>\n",
       "      <th>mean</th>\n",
       "      <td>4.486729</td>\n",
       "      <td>4.417158</td>\n",
       "      <td>5.175201</td>\n",
       "      <td>4.882145e+09</td>\n",
       "      <td>3.504475e+08</td>\n",
       "      <td>7.482987e+08</td>\n",
       "      <td>1.960701e+08</td>\n",
       "      <td>1.411989e+08</td>\n",
       "      <td>9.244080e+07</td>\n",
       "      <td>1.507457e+09</td>\n",
       "      <td>4.878131e+09</td>\n",
       "      <td>5.783097e+07</td>\n",
       "      <td>-4.376316e+07</td>\n",
       "      <td>0.474531</td>\n",
       "    </tr>\n",
       "    <tr>\n",
       "      <th>std</th>\n",
       "      <td>2.437189</td>\n",
       "      <td>1.325557</td>\n",
       "      <td>1.022506</td>\n",
       "      <td>1.676949e+10</td>\n",
       "      <td>1.240546e+09</td>\n",
       "      <td>3.305257e+09</td>\n",
       "      <td>1.160474e+09</td>\n",
       "      <td>9.730379e+08</td>\n",
       "      <td>6.394282e+08</td>\n",
       "      <td>7.054713e+09</td>\n",
       "      <td>1.676959e+10</td>\n",
       "      <td>4.837677e+08</td>\n",
       "      <td>7.192662e+08</td>\n",
       "      <td>0.499686</td>\n",
       "    </tr>\n",
       "    <tr>\n",
       "      <th>min</th>\n",
       "      <td>0.000000</td>\n",
       "      <td>0.400000</td>\n",
       "      <td>1.100000</td>\n",
       "      <td>0.000000e+00</td>\n",
       "      <td>0.000000e+00</td>\n",
       "      <td>0.000000e+00</td>\n",
       "      <td>-8.038000e+06</td>\n",
       "      <td>-2.074780e+08</td>\n",
       "      <td>-1.001000e+09</td>\n",
       "      <td>-3.667000e+09</td>\n",
       "      <td>0.000000e+00</td>\n",
       "      <td>-1.186000e+09</td>\n",
       "      <td>-1.224700e+10</td>\n",
       "      <td>0.000000</td>\n",
       "    </tr>\n",
       "    <tr>\n",
       "      <th>25%</th>\n",
       "      <td>2.700000</td>\n",
       "      <td>3.500000</td>\n",
       "      <td>4.600000</td>\n",
       "      <td>2.551160e+08</td>\n",
       "      <td>2.100106e+07</td>\n",
       "      <td>8.909750e+06</td>\n",
       "      <td>0.000000e+00</td>\n",
       "      <td>0.000000e+00</td>\n",
       "      <td>-2.288500e+06</td>\n",
       "      <td>8.662200e+07</td>\n",
       "      <td>2.519202e+08</td>\n",
       "      <td>-3.928750e+06</td>\n",
       "      <td>-8.436000e+06</td>\n",
       "      <td>0.000000</td>\n",
       "    </tr>\n",
       "    <tr>\n",
       "      <th>50%</th>\n",
       "      <td>4.500000</td>\n",
       "      <td>4.200000</td>\n",
       "      <td>5.300000</td>\n",
       "      <td>8.914490e+08</td>\n",
       "      <td>7.777750e+07</td>\n",
       "      <td>1.021125e+08</td>\n",
       "      <td>0.000000e+00</td>\n",
       "      <td>8.779000e+06</td>\n",
       "      <td>2.216358e+06</td>\n",
       "      <td>2.898155e+08</td>\n",
       "      <td>8.844245e+08</td>\n",
       "      <td>2.764000e+06</td>\n",
       "      <td>0.000000e+00</td>\n",
       "      <td>0.000000</td>\n",
       "    </tr>\n",
       "    <tr>\n",
       "      <th>75%</th>\n",
       "      <td>6.300000</td>\n",
       "      <td>5.300000</td>\n",
       "      <td>5.900000</td>\n",
       "      <td>3.493494e+09</td>\n",
       "      <td>1.928348e+08</td>\n",
       "      <td>3.668820e+08</td>\n",
       "      <td>6.183275e+07</td>\n",
       "      <td>4.099850e+07</td>\n",
       "      <td>2.468350e+07</td>\n",
       "      <td>8.379402e+08</td>\n",
       "      <td>3.493494e+09</td>\n",
       "      <td>1.845525e+07</td>\n",
       "      <td>4.686500e+06</td>\n",
       "      <td>1.000000</td>\n",
       "    </tr>\n",
       "    <tr>\n",
       "      <th>max</th>\n",
       "      <td>10.000000</td>\n",
       "      <td>9.600000</td>\n",
       "      <td>7.600000</td>\n",
       "      <td>3.052770e+11</td>\n",
       "      <td>2.151400e+10</td>\n",
       "      <td>5.055700e+10</td>\n",
       "      <td>1.992100e+10</td>\n",
       "      <td>1.992100e+10</td>\n",
       "      <td>1.398700e+10</td>\n",
       "      <td>1.304570e+11</td>\n",
       "      <td>3.052770e+11</td>\n",
       "      <td>1.051600e+10</td>\n",
       "      <td>1.549000e+09</td>\n",
       "      <td>1.000000</td>\n",
       "    </tr>\n",
       "  </tbody>\n",
       "</table>\n",
       "</div>"
      ],
      "text/plain": [
       "       Environmental SCORE  Social SCORE  Governance SCORE        Assets  \\\n",
       "count           746.000000    746.000000        746.000000  7.460000e+02   \n",
       "mean              4.486729      4.417158          5.175201  4.882145e+09   \n",
       "std               2.437189      1.325557          1.022506  1.676949e+10   \n",
       "min               0.000000      0.400000          1.100000  0.000000e+00   \n",
       "25%               2.700000      3.500000          4.600000  2.551160e+08   \n",
       "50%               4.500000      4.200000          5.300000  8.914490e+08   \n",
       "75%               6.300000      5.300000          5.900000  3.493494e+09   \n",
       "max              10.000000      9.600000          7.600000  3.052770e+11   \n",
       "\n",
       "       Cash and Cash Equivalents, at Carrying Value  Final Revenue  \\\n",
       "count                                  7.460000e+02   7.460000e+02   \n",
       "mean                                   3.504475e+08   7.482987e+08   \n",
       "std                                    1.240546e+09   3.305257e+09   \n",
       "min                                    0.000000e+00   0.000000e+00   \n",
       "25%                                    2.100106e+07   8.909750e+06   \n",
       "50%                                    7.777750e+07   1.021125e+08   \n",
       "75%                                    1.928348e+08   3.668820e+08   \n",
       "max                                    2.151400e+10   5.055700e+10   \n",
       "\n",
       "       Gross Profit  Income from Continuing Operations before Taxes  \\\n",
       "count  7.460000e+02                                    7.460000e+02   \n",
       "mean   1.960701e+08                                    1.411989e+08   \n",
       "std    1.160474e+09                                    9.730379e+08   \n",
       "min   -8.038000e+06                                   -2.074780e+08   \n",
       "25%    0.000000e+00                                    0.000000e+00   \n",
       "50%    0.000000e+00                                    8.779000e+06   \n",
       "75%    6.183275e+07                                    4.099850e+07   \n",
       "max    1.992100e+10                                    1.992100e+10   \n",
       "\n",
       "       Operating Income (Loss)  Total Equity  Total Liabilities and Equity  \\\n",
       "count             7.460000e+02  7.460000e+02                  7.460000e+02   \n",
       "mean              9.244080e+07  1.507457e+09                  4.878131e+09   \n",
       "std               6.394282e+08  7.054713e+09                  1.676959e+10   \n",
       "min              -1.001000e+09 -3.667000e+09                  0.000000e+00   \n",
       "25%              -2.288500e+06  8.662200e+07                  2.519202e+08   \n",
       "50%               2.216358e+06  2.898155e+08                  8.844245e+08   \n",
       "75%               2.468350e+07  8.379402e+08                  3.493494e+09   \n",
       "max               1.398700e+10  1.304570e+11                  3.052770e+11   \n",
       "\n",
       "       Net Income (Loss)  \\\n",
       "count       7.460000e+02   \n",
       "mean        5.783097e+07   \n",
       "std         4.837677e+08   \n",
       "min        -1.186000e+09   \n",
       "25%        -3.928750e+06   \n",
       "50%         2.764000e+06   \n",
       "75%         1.845525e+07   \n",
       "max         1.051600e+10   \n",
       "\n",
       "       Cash and Cash Equivalents, Period Increase (Decrease)      Target  \n",
       "count                                       7.460000e+02      746.000000  \n",
       "mean                                       -4.376316e+07        0.474531  \n",
       "std                                         7.192662e+08        0.499686  \n",
       "min                                        -1.224700e+10        0.000000  \n",
       "25%                                        -8.436000e+06        0.000000  \n",
       "50%                                         0.000000e+00        0.000000  \n",
       "75%                                         4.686500e+06        1.000000  \n",
       "max                                         1.549000e+09        1.000000  "
      ]
     },
     "execution_count": 12,
     "metadata": {},
     "output_type": "execute_result"
    }
   ],
   "source": [
    "# run .describe() to check the data types again\n",
    "df.<>"
   ]
  },
  {
   "cell_type": "code",
   "execution_count": 13,
   "metadata": {},
   "outputs": [
    {
     "data": {
      "text/html": [
       "<div>\n",
       "<style scoped>\n",
       "    .dataframe tbody tr th:only-of-type {\n",
       "        vertical-align: middle;\n",
       "    }\n",
       "\n",
       "    .dataframe tbody tr th {\n",
       "        vertical-align: top;\n",
       "    }\n",
       "\n",
       "    .dataframe thead th {\n",
       "        text-align: right;\n",
       "    }\n",
       "</style>\n",
       "<table border=\"1\" class=\"dataframe\">\n",
       "  <thead>\n",
       "    <tr style=\"text-align: right;\">\n",
       "      <th></th>\n",
       "      <th>Ticker</th>\n",
       "      <th>Company Name</th>\n",
       "      <th>Country</th>\n",
       "      <th>Sector</th>\n",
       "      <th>Subsector</th>\n",
       "    </tr>\n",
       "  </thead>\n",
       "  <tbody>\n",
       "    <tr>\n",
       "      <th>count</th>\n",
       "      <td>746</td>\n",
       "      <td>746</td>\n",
       "      <td>746</td>\n",
       "      <td>746</td>\n",
       "      <td>746</td>\n",
       "    </tr>\n",
       "    <tr>\n",
       "      <th>unique</th>\n",
       "      <td>717</td>\n",
       "      <td>746</td>\n",
       "      <td>1</td>\n",
       "      <td>61</td>\n",
       "      <td>107</td>\n",
       "    </tr>\n",
       "    <tr>\n",
       "      <th>top</th>\n",
       "      <td>CHTR</td>\n",
       "      <td>1-800-FLOWERSCOM, INC</td>\n",
       "      <td>US</td>\n",
       "      <td>Banks</td>\n",
       "      <td>Biotechnology</td>\n",
       "    </tr>\n",
       "    <tr>\n",
       "      <th>freq</th>\n",
       "      <td>4</td>\n",
       "      <td>1</td>\n",
       "      <td>746</td>\n",
       "      <td>92</td>\n",
       "      <td>87</td>\n",
       "    </tr>\n",
       "  </tbody>\n",
       "</table>\n",
       "</div>"
      ],
      "text/plain": [
       "       Ticker           Company Name Country Sector      Subsector\n",
       "count     746                    746     746    746            746\n",
       "unique    717                    746       1     61            107\n",
       "top      CHTR  1-800-FLOWERSCOM, INC      US  Banks  Biotechnology\n",
       "freq        4                      1     746     92             87"
      ]
     },
     "execution_count": 13,
     "metadata": {},
     "output_type": "execute_result"
    }
   ],
   "source": [
    "df.describe(exclude=[np.number])  "
   ]
  },
  {
   "cell_type": "markdown",
   "metadata": {},
   "source": [
    "The machine learning model could only take the numerical form. So we could not directly use a text of Country, Sector, Subsector in the ML model."
   ]
  },
  {
   "cell_type": "code",
   "execution_count": 14,
   "metadata": {},
   "outputs": [
    {
     "name": "stdout",
     "output_type": "stream",
     "text": [
      "US <class 'str'>\n",
      "Retail - Consumer Discretionary <class 'str'>\n",
      "Internet & Direct Marketing Retail <class 'str'>\n"
     ]
    }
   ],
   "source": [
    "# Example values of Country, Sector and Subsector column\n",
    "# there are String \n",
    "print(df.Country[0], type(df.Country[0]))\n",
    "print(df.Sector[0], type(df.Sector[0]))\n",
    "print(df.Subsector[0], type(df.Subsector[0]))"
   ]
  },
  {
   "cell_type": "markdown",
   "metadata": {},
   "source": [
    "We can use the technique called Label Encoding to convert the labels into a numeric form that the machine can read. https://www.geeksforgeeks.org/ml-label-encoding-of-datasets-in-python"
   ]
  },
  {
   "cell_type": "markdown",
   "metadata": {},
   "source": [
    "The Label encoding is available in the scikit-learn library, a ML library in Python."
   ]
  },
  {
   "cell_type": "code",
   "execution_count": 15,
   "metadata": {},
   "outputs": [],
   "source": [
    "# conda install -c intel scikit-learn\n",
    "from sklearn import preprocessing"
   ]
  },
  {
   "cell_type": "code",
   "execution_count": 16,
   "metadata": {},
   "outputs": [],
   "source": [
    "# Encode target labels with value between 0 and n_classes-1. \n",
    "# https://scikit-learn.org/stable/modules/generated/sklearn.preprocessing.LabelEncoder.html \n",
    "le = preprocessing.LabelEncoder()\n",
    "\n",
    "# crate new column as a result of LabelEncoder\n",
    "df['country_label'] = le.fit_transform(df['Country'])\n",
    "df['sector_label'] = le.fit_transform(df['Sector'])\n",
    "df['subsector_label'] = le.fit_transform(df['Subsector'])"
   ]
  },
  {
   "cell_type": "code",
   "execution_count": 17,
   "metadata": {},
   "outputs": [
    {
     "data": {
      "text/html": [
       "<div>\n",
       "<style scoped>\n",
       "    .dataframe tbody tr th:only-of-type {\n",
       "        vertical-align: middle;\n",
       "    }\n",
       "\n",
       "    .dataframe tbody tr th {\n",
       "        vertical-align: top;\n",
       "    }\n",
       "\n",
       "    .dataframe thead th {\n",
       "        text-align: right;\n",
       "    }\n",
       "</style>\n",
       "<table border=\"1\" class=\"dataframe\">\n",
       "  <thead>\n",
       "    <tr style=\"text-align: right;\">\n",
       "      <th></th>\n",
       "      <th>country_label</th>\n",
       "      <th>sector_label</th>\n",
       "      <th>subsector_label</th>\n",
       "    </tr>\n",
       "  </thead>\n",
       "  <tbody>\n",
       "    <tr>\n",
       "      <th>count</th>\n",
       "      <td>746.0</td>\n",
       "      <td>746.000000</td>\n",
       "      <td>746.000000</td>\n",
       "    </tr>\n",
       "    <tr>\n",
       "      <th>mean</th>\n",
       "      <td>0.0</td>\n",
       "      <td>29.422252</td>\n",
       "      <td>52.810992</td>\n",
       "    </tr>\n",
       "    <tr>\n",
       "      <th>std</th>\n",
       "      <td>0.0</td>\n",
       "      <td>19.063722</td>\n",
       "      <td>33.604737</td>\n",
       "    </tr>\n",
       "    <tr>\n",
       "      <th>min</th>\n",
       "      <td>0.0</td>\n",
       "      <td>0.000000</td>\n",
       "      <td>0.000000</td>\n",
       "    </tr>\n",
       "    <tr>\n",
       "      <th>25%</th>\n",
       "      <td>0.0</td>\n",
       "      <td>8.000000</td>\n",
       "      <td>16.000000</td>\n",
       "    </tr>\n",
       "    <tr>\n",
       "      <th>50%</th>\n",
       "      <td>0.0</td>\n",
       "      <td>26.000000</td>\n",
       "      <td>49.000000</td>\n",
       "    </tr>\n",
       "    <tr>\n",
       "      <th>75%</th>\n",
       "      <td>0.0</td>\n",
       "      <td>49.750000</td>\n",
       "      <td>88.000000</td>\n",
       "    </tr>\n",
       "    <tr>\n",
       "      <th>max</th>\n",
       "      <td>0.0</td>\n",
       "      <td>60.000000</td>\n",
       "      <td>106.000000</td>\n",
       "    </tr>\n",
       "  </tbody>\n",
       "</table>\n",
       "</div>"
      ],
      "text/plain": [
       "       country_label  sector_label  subsector_label\n",
       "count          746.0    746.000000       746.000000\n",
       "mean             0.0     29.422252        52.810992\n",
       "std              0.0     19.063722        33.604737\n",
       "min              0.0      0.000000         0.000000\n",
       "25%              0.0      8.000000        16.000000\n",
       "50%              0.0     26.000000        49.000000\n",
       "75%              0.0     49.750000        88.000000\n",
       "max              0.0     60.000000       106.000000"
      ]
     },
     "execution_count": 17,
     "metadata": {},
     "output_type": "execute_result"
    }
   ],
   "source": [
    "df[['country_label', 'sector_label', 'subsector_label']].describe()"
   ]
  },
  {
   "cell_type": "markdown",
   "metadata": {},
   "source": [
    "Tips: Another encoding method is one-hot encoding to handle Categorical data https://www.geeksforgeeks.org/ml-one-hot-encoding-of-datasets-in-python/?ref=lbp "
   ]
  },
  {
   "cell_type": "markdown",
   "metadata": {},
   "source": [
    "#### Question: Should we keep 'country_label' column?"
   ]
  },
  {
   "cell_type": "markdown",
   "metadata": {},
   "source": [
    "Answer: No, all stocks are in the US and have the same 'US' value in Country column. There is no need to have this column to train ML model."
   ]
  },
  {
   "cell_type": "code",
   "execution_count": 18,
   "metadata": {},
   "outputs": [
    {
     "data": {
      "text/plain": [
       "US    746\n",
       "Name: Country, dtype: int64"
      ]
     },
     "execution_count": 18,
     "metadata": {},
     "output_type": "execute_result"
    }
   ],
   "source": [
    "# Return a Series containing counts of unique values.\n",
    "# https://pandas.pydata.org/docs/reference/api/pandas.Series.value_counts.html \n",
    "\n",
    "df['Country'].value_counts()\n",
    "# df.Country.value_counts()"
   ]
  },
  {
   "cell_type": "code",
   "execution_count": 19,
   "metadata": {},
   "outputs": [
    {
     "data": {
      "text/plain": [
       "(746, 16)"
      ]
     },
     "execution_count": 19,
     "metadata": {},
     "output_type": "execute_result"
    }
   ],
   "source": [
    "# drop unused columns -  Company Name, Country, Sector, Subsector\n",
    "dropped_columns = ['Ticker', 'Company Name', 'Country', 'country_label', 'Sector', 'Subsector']\n",
    "\n",
    "df.drop(dropped_columns, axis=1, inplace=True)\n",
    "df.shape"
   ]
  },
  {
   "cell_type": "markdown",
   "metadata": {},
   "source": [
    "## 4. Prepare Data for Machine Learning Model"
   ]
  },
  {
   "cell_type": "markdown",
   "metadata": {},
   "source": [
    "#### Target variable vs Predictor variable\n",
    "\n",
    "- Target variable is the variable whose value is predicted by the model.\n",
    "- Predictor variable is the variable used to predict the target variable.\n",
    "\n",
    "In this project, the target variable is the 'Target' column in the DataFrame, which contains the binary value of zero and one. The value of one means that the stock has an overall ESG score greater than or equal to the median. The asset is added to the ESG portfolio. "
   ]
  },
  {
   "cell_type": "code",
   "execution_count": 20,
   "metadata": {},
   "outputs": [
    {
     "data": {
      "text/plain": [
       "0    392\n",
       "1    354\n",
       "Name: Target, dtype: int64"
      ]
     },
     "execution_count": 20,
     "metadata": {},
     "output_type": "execute_result"
    }
   ],
   "source": [
    "# use .value_counts() to see how many stocks are classified into zero and one value in Target column\n",
    "df.Target.<>"
   ]
  },
  {
   "cell_type": "markdown",
   "metadata": {},
   "source": [
    "#### Split the data\n",
    "\n",
    "The next step is to split the dataset into training and testing dataset.\n",
    "- Training dataset is used to train and fit the ML model.\n",
    "- Testing data set is used to evaluate the performance of ML model."
   ]
  },
  {
   "cell_type": "code",
   "execution_count": 21,
   "metadata": {},
   "outputs": [
    {
     "ename": "NameError",
     "evalue": "name 'train_test_split' is not defined",
     "output_type": "error",
     "traceback": [
      "\u001b[0;31m---------------------------------------------------------------------------\u001b[0m",
      "\u001b[0;31mNameError\u001b[0m                                 Traceback (most recent call last)",
      "Input \u001b[0;32mIn [21]\u001b[0m, in \u001b[0;36m<cell line: 6>\u001b[0;34m()\u001b[0m\n\u001b[1;32m      3\u001b[0m y \u001b[38;5;241m=\u001b[39m df\u001b[38;5;241m.\u001b[39mTarget\n\u001b[1;32m      5\u001b[0m \u001b[38;5;66;03m# train:test ratio is 80:20\u001b[39;00m\n\u001b[0;32m----> 6\u001b[0m X_train, X_test, y_train, y_test \u001b[38;5;241m=\u001b[39m \u001b[43mtrain_test_split\u001b[49m(X, y, test_size\u001b[38;5;241m=\u001b[39m\u001b[38;5;241m0.20\u001b[39m)\n",
      "\u001b[0;31mNameError\u001b[0m: name 'train_test_split' is not defined"
     ]
    }
   ],
   "source": [
    "# we don't need 'Target' column to be included in training dataset\n",
    "X = df.drop('Target', axis=1)\n",
    "y = df.Target\n",
    "\n",
    "# train:test ratio is 80:20\n",
    "X_train, X_test, y_train, y_test = train_test_split(X, y, test_size=<>)"
   ]
  },
  {
   "cell_type": "code",
   "execution_count": null,
   "metadata": {},
   "outputs": [],
   "source": [
    "print('The size of the training dataset: ', X_train.<>)\n",
    "print('The size of the testing dataset: ', X_test.<>)"
   ]
  },
  {
   "cell_type": "code",
   "execution_count": null,
   "metadata": {},
   "outputs": [],
   "source": [
    "print('Target count of training dataset: ', y_train.value_counts().to_dict())\n",
    "print('Target count of testing dataset: ', y_test.<>)"
   ]
  },
  {
   "cell_type": "markdown",
   "metadata": {},
   "source": [
    "## 5. Basic Machine Learning Models"
   ]
  },
  {
   "cell_type": "markdown",
   "metadata": {},
   "source": [
    "In this project, we will use three basic machine learning models.\n",
    "\n",
    "1. Logistics Regression\n",
    "2. Decision Tree\n",
    "3. Random Forest\n",
    "\n",
    "These supervised learning models require training datasets to learn and predict the value. They are commonly used for classification problems. Some models, such as decision tree and random forest, could be used to predict a continuous value (i.e., regression problem), such as predicting the house price.\n",
    "\n",
    "You will cover more details in the next semester."
   ]
  },
  {
   "cell_type": "code",
   "execution_count": null,
   "metadata": {},
   "outputs": [],
   "source": [
    "from sklearn.linear_model import LogisticRegression\n",
    "from sklearn import tree #decision tree\n",
    "from sklearn.ensemble import RandomForestClassifier"
   ]
  },
  {
   "cell_type": "markdown",
   "metadata": {},
   "source": [
    "There are many matrics that we can use to measure the performance of our prediction model. We will use accuracy, a fraction of how many predictions our model got right. "
   ]
  },
  {
   "cell_type": "code",
   "execution_count": null,
   "metadata": {},
   "outputs": [],
   "source": [
    "from sklearn.metrics import accuracy_score\n",
    "\n",
    "def print_score(y_true, y_pred):\n",
    "    print('Accuracy: ', accuracy_score(y_true, y_pred))"
   ]
  },
  {
   "cell_type": "code",
   "execution_count": null,
   "metadata": {},
   "outputs": [],
   "source": [
    "# Logistics Regression\n",
    "clf = LogisticRegression(random_state=0).fit(X_train, y_train)\n",
    "\n",
    "y_pred = clf.predict(X_test)\n",
    "print_score(y_test, y_pred)"
   ]
  },
  {
   "cell_type": "code",
   "execution_count": null,
   "metadata": {},
   "outputs": [],
   "source": [
    "# Decision tree\n",
    "clf = tree.DecisionTreeClassifier().fit(<>)\n",
    "y_pred = clf.predict(<>)\n",
    "\n",
    "print_score(<>)"
   ]
  },
  {
   "cell_type": "code",
   "execution_count": null,
   "metadata": {},
   "outputs": [],
   "source": [
    "# Random forest\n",
    "clf = RandomForestClassifier().fit(<>)\n",
    "y_pred = clf.predict(<>)\n",
    "\n",
    "print_score(<>)"
   ]
  },
  {
   "cell_type": "markdown",
   "metadata": {},
   "source": [
    "#### Question: Given the accuracy, which model is the best one?"
   ]
  },
  {
   "cell_type": "markdown",
   "metadata": {},
   "source": [
    "Answer:"
   ]
  },
  {
   "cell_type": "markdown",
   "metadata": {},
   "source": [
    "## 6. Key takeaway"
   ]
  },
  {
   "cell_type": "markdown",
   "metadata": {},
   "source": [
    "In this session, you have learned the following:\n",
    "\n",
    "- How the industry has used a combination of the data to make a stock selection.\n",
    "- The nature of the structured dataset that could be processed in the form of DataFrame.\n",
    "- Basic data processing using Python programming language.\n",
    "- Basic machine learning models using Python and the scikit-learn library.\n",
    "- Basic machine learning performance evaluation using Accuracy as the main matric. "
   ]
  },
  {
   "cell_type": "markdown",
   "metadata": {},
   "source": [
    "There is future work that you are encouraged to investigate further if you are interested in this topic:\n",
    "\n",
    "- How could you explain the source of E, S, G and overall ESG score? There is a lack of transparency in ESG ratings, and we do not know how the agency generates these ratings.\n",
    "- Further transformation of data. You can create a new column of financial ratios using the fundamental data.\n",
    "- This model hasn't been validated and doesn't have optimal hyperparameters. You could split the dataset into a validation dataset to train the model and find hyperparameters.\n",
    "- You can use other performance metrics, such as F1 score, recall and precision.\n",
    "- There are other classification models such as Naive Bayes, support vector machine, and advanced deep learning models.\n",
    "- You could find more data to improve the prediction result, such as sentiment from news and other ESG rating sources. "
   ]
  }
 ],
 "metadata": {
  "kernelspec": {
   "display_name": "Python 3 (ipykernel)",
   "language": "python",
   "name": "python3"
  },
  "language_info": {
   "codemirror_mode": {
    "name": "ipython",
    "version": 3
   },
   "file_extension": ".py",
   "mimetype": "text/x-python",
   "name": "python",
   "nbconvert_exporter": "python",
   "pygments_lexer": "ipython3",
   "version": "3.10.4"
  }
 },
 "nbformat": 4,
 "nbformat_minor": 4
}
