{
 "cells": [
  {
   "cell_type": "markdown",
   "metadata": {},
   "source": [
    "# OpenBanking API with Railsbank (Railsr)"
   ]
  },
  {
   "cell_type": "markdown",
   "metadata": {},
   "source": [
    "- In this session, you will have opportunity to explore the key features offered by Railsr using the API. We will use Python to implement the API request and get the response from their serer.\n",
    "- The main objective of this module is to create bank account and be able to transfer (play) money to each other account.\n",
    "- You can access API document on https://docs.railsr.com/docs/api"
   ]
  },
  {
   "cell_type": "code",
   "execution_count": null,
   "metadata": {},
   "outputs": [],
   "source": [
    "# Import libraries you will use for this project\n",
    "import requests\n",
    "import json\n"
   ]
  },
  {
   "cell_type": "code",
   "execution_count": null,
   "metadata": {},
   "outputs": [],
   "source": [
    "# Read the API key from the text file\n",
    "\n",
    "f = open(\"./API_Key/api_key.txt\", \"r\")\n",
    "api_key = f.read()\n",
    "print(api_key)"
   ]
  },
  {
   "cell_type": "code",
   "execution_count": null,
   "metadata": {},
   "outputs": [],
   "source": [
    "# API header, a metadata associated to the API request or response\n",
    "# we will reuse this header everytime we call API\n",
    "\n",
    "headers = {\n",
    "    \"Content-Type\": \"application/json\", #tell the media type of the request is in json format\n",
    "    \"Accept\": \"application/json\", # tells the server which type of response that we can accept, in this case it's json\n",
    "    \"Authorization\": \"API-Key \" + api_key \n",
    "    #authentication credentials. We tells Railsbank that we have access to use this API\n",
    "}"
   ]
  },
  {
   "cell_type": "markdown",
   "metadata": {},
   "source": [
    "Note: JavaScript Object Notation (JSON) is a standard text-based format for representing structured data based on JavaScript object syntax. Read more on https://developer.mozilla.org/en-US/docs/Learn/JavaScript/Objects/JSON "
   ]
  },
  {
   "cell_type": "code",
   "execution_count": null,
   "metadata": {},
   "outputs": [],
   "source": [
    "# We will use the play environment provided by Railsbank\n",
    "# Our preliminary Sandbox that allows you to test and integrate the API with complete freedom.\n",
    "# It is a simulation that is not connected to the outside world. \n",
    "# It costs nothing and there are no limits to the numbers of calls, transactions and volumes.\n",
    "# So you do not need to deposit your 'real' money to test API functionalities \n",
    "# https://docs.railsr.com/docs/guides/6d2585fbafbfb-railsr-environments\n",
    "\n",
    "BASE_URL = \"https://play.railsbank.com/v1/customer\""
   ]
  },
  {
   "cell_type": "markdown",
   "metadata": {},
   "source": [
    "## Customer"
   ]
  },
  {
   "cell_type": "markdown",
   "metadata": {},
   "source": [
    "As a Railsr Customer, you are a company that has access to Railsr's API Keys and capabilities. You integrate these capabilities into your own particular app or business to provide global banking to your own customers ('Endusers')."
   ]
  },
  {
   "cell_type": "code",
   "execution_count": null,
   "metadata": {},
   "outputs": [],
   "source": [
    "# Get customer's own information\n",
    "# https://docs.railsr.com/docs/api/766ed3fbcd018-get-customer-s-own-information\n",
    "url = BASE_URL + \"/me\"\n",
    "\n",
    "response = requests.request(\"?\", url, headers=headers)\n",
    "\n",
    "print(response.text)"
   ]
  },
  {
   "cell_type": "markdown",
   "metadata": {},
   "source": [
    "## End User"
   ]
  },
  {
   "cell_type": "markdown",
   "metadata": {},
   "source": [
    "An Enduser is an ultimate consumer of Railsr's capabilities, not a direct customer of Railsr.\n",
    "\n",
    "Only you as a Customer of Railsr (as defined above) has access to the Railsr API, so it is through your interface that the Enduser (typically, your own customer) can interact with this API. An Enduser may be either an individual or company."
   ]
  },
  {
   "cell_type": "code",
   "execution_count": null,
   "metadata": {},
   "outputs": [],
   "source": [
    "# Create end user\n",
    "# https://docs.railsr.com/docs/api/766ed3fbcd018-get-customer-s-own-information \n",
    "\n",
    "url = BASE_URL + \"/endusers\"\n",
    "\n",
    "# Feel free to edit this payload as you wish \n",
    "payload = {\n",
    "    \"enduser_meta\": {\"foo\": \"bar\"},\n",
    "    \"person\": {\n",
    "        \"country_of_residence\": [\"USA\"],\n",
    "        \"document_number\": \"000 000 000\",\n",
    "        \"document_type\": \"passport\",\n",
    "        \"full_name\": {\n",
    "            \"last_name\": \"McDonald\",\n",
    "            \"middle_name\": \"Kevin\",\n",
    "            \"first_name\": \"James\"\n",
    "        },\n",
    "        \"income\": {\n",
    "            \"frequency\": \"annual\",\n",
    "            \"currency\": \"GBP\",\n",
    "            \"amount\": \"25000\"\n",
    "        },\n",
    "        \"pep_type\": \"direct\",\n",
    "        \"pep_notes\": \"comment\",\n",
    "        \"address_history\": [\n",
    "            {\n",
    "                \"address_end_date\": \"2099-12-31\",\n",
    "                \"address_start_date\": \"2015-03-07\",\n",
    "                \"address_iso_country\": \"GB\"\n",
    "            },\n",
    "            {\n",
    "                \"address_end_date\": \"2078-03-05\",\n",
    "                \"address_start_date\": \"2015-03-07\",\n",
    "                \"address_iso_country\": \"US\"\n",
    "            }\n",
    "        ],\n",
    "        \"pep\": True,\n",
    "        \"date_onboarded\": \"2011-11-21\",\n",
    "        \"email\": \"alice@short.com\",\n",
    "        \"tin\": \"541571\",\n",
    "        \"document_issue_date\": \"2000-01-01\",\n",
    "        \"name\": \"Bob\",\n",
    "        \"address\": {\n",
    "            \"address_region\": \"California\",\n",
    "            \"address_iso_country\": \"GB\",\n",
    "            \"address_number\": \"47\",\n",
    "            \"address_postal_code\": \"123456\",\n",
    "            \"address_refinement\": \"Apartment 42\",\n",
    "            \"address_street\": \"Hudson Street\",\n",
    "            \"address_city\": \"Los Angeles\"\n",
    "        },\n",
    "        \"social_security_number\": \"090606\",\n",
    "        \"telephone\": \"0012345678912\",\n",
    "        \"foreign_residency_tin\": \"541571\",\n",
    "        \"date_of_birth\": \"1981-02-03\",\n",
    "        \"document_expiration_date\": \"2020-12-03\",\n",
    "        \"tin_type\": \"type\",\n",
    "        \"citizenship\": [\"USA\"],\n",
    "        \"nationality\": [\"Hungarian\"],\n",
    "        \"document_issuer\": \"USA\",\n",
    "        \"country_of_birth\": \"USA\"\n",
    "    }\n",
    "}\n",
    "\n",
    "response = requests.request(\"?\", url, json=payload, headers=headers)\n",
    "\n",
    "print(response.text)"
   ]
  },
  {
   "cell_type": "code",
   "execution_count": null,
   "metadata": {},
   "outputs": [],
   "source": [
    "# Create the variable of your End user ID\n",
    "enduser_id = ''"
   ]
  },
  {
   "cell_type": "code",
   "execution_count": null,
   "metadata": {},
   "outputs": [],
   "source": [
    "# Check details of end user, \n",
    "# it should match the payload that you sent in the previous API\n",
    "url = BASE_URL + \"endusers/\" + enduser_id\n",
    "response = requests.request(\"?\", url, headers=headers)\n",
    "\n",
    "print(response.text)"
   ]
  },
  {
   "cell_type": "markdown",
   "metadata": {},
   "source": [
    "## Ledger"
   ]
  },
  {
   "cell_type": "markdown",
   "metadata": {},
   "source": [
    "- A ledger is an entity that contains the balance of an asset.\n",
    "- Currently, the assets that are available are English Pounds (GBP), Euros (EUR), US Dollars (USD), Australian Dollars (AUD) and Singapore Dollars (SGD).\n",
    "- A ledger can be held by either a Customer or Enduser (person or company). It's a matter of assigning the correct entity to the holder_id.\n",
    "- We want to create a ledger to be held by Enduser. So we will assign the enduser_id that we have in the previous API to holder_id"
   ]
  },
  {
   "cell_type": "code",
   "execution_count": null,
   "metadata": {},
   "outputs": [],
   "source": [
    "# Create ledger \n",
    "# These ledgers hold simulated money\n",
    "# https://docs.railsr.com/docs/guides/c59cd75a93820-create-a-ledger-use-case\n",
    "\n",
    "url = BASE_URL = \"/ledgers\"\n",
    "\n",
    "payload = {\n",
    "    \"holder_id\": enduser_id,\n",
    "    \"partner_product\": \"PayrNet-GBP-2\",\n",
    "    \"asset_class\": \"currency\",\n",
    "    \"asset_type\": \"gbp\",\n",
    "    \"ledger_type\": \"ledger-type-omnibus\",\n",
    "    \"ledger_who_owns_assets\": \"ledger-assets-owned-by-me\",\n",
    "    \"ledger_primary_use_types\": [\"ledger-primary-use-types-payments\"],\n",
    "    \"ledger_t_and_cs_country_of_jurisdiction\": \"GBR\",\n",
    "}\n",
    "\n",
    "\n",
    "response = requests.request(\"?\", url, json=payload, headers=headers)\n",
    "\n",
    "print(response.text)"
   ]
  },
  {
   "cell_type": "code",
   "execution_count": null,
   "metadata": {},
   "outputs": [],
   "source": [
    "# Create the variable of your ledger that your enduser_id currently hold\n",
    "ledger_id = ''"
   ]
  },
  {
   "cell_type": "code",
   "execution_count": null,
   "metadata": {},
   "outputs": [],
   "source": [
    "# Get ledger details\n",
    "url = BASE_UCL + \"/ledgers/\" + ledger_id\n",
    "\n",
    "response = requests.request(\"?\", url, headers=headers)\n",
    "\n",
    "print(response.text)"
   ]
  },
  {
   "cell_type": "code",
   "execution_count": null,
   "metadata": {},
   "outputs": [],
   "source": [
    "# Create the variable of your ledger details including iban, UK accout number and sort code\n",
    "# iban stands for International Bank Account Number, you will need it when you do international transfer\n",
    "iban = \"\"\n",
    "uk_account_number = \"\"\n",
    "uk_sort_code = \"\""
   ]
  },
  {
   "cell_type": "markdown",
   "metadata": {},
   "source": [
    "## Beneficiaries"
   ]
  },
  {
   "cell_type": "markdown",
   "metadata": {},
   "source": [
    "- A beneficiary is simply a company or person to which money can be sent from a Railsr ledger. Both Endusers and Customers can 'hold' beneficiaries, and any beneficiary can in turn hold multiple accounts.\n",
    "\n",
    "- If an Enduser creates a beneficiary, the beneficiary is added to the list of all the Enduser's other beneficiaries. When the Enduser wants to transfer money to a beneficiary, they simply select the beneficiary_id from the list and add it to the transaction payload.\n",
    "\n",
    "- Beneficiary can holds multiple accouts with different currency https://docs.railsr.com/docs/guides/cdb74af771c62-add-an-account-to-a-beneficiary"
   ]
  },
  {
   "cell_type": "code",
   "execution_count": null,
   "metadata": {},
   "outputs": [],
   "source": [
    "# Create beneficiaries\n",
    "# https://docs.railsr.com/docs/api/20e38d3a882e6-create-beneficiary\n",
    "\n",
    "url = BASE_URL + \"/beneficiaries\"\n",
    "\n",
    "payload = {\n",
    "    \"uk_account_number\": uk_account_number, #\"{{uk_account_number}}\",\n",
    "    \"uk_sort_code\": uk_sort_code, #\"{{uk_sort_code}}\",\n",
    "    \"holder_id\": enduser_id, #\"{{enduser_id}}\",\n",
    "    \"asset_class\": \"currency\", # Need to match the ledger\n",
    "    \"asset_type\": \"gbp\", # Need to match the ledger\n",
    "    \"person\": { \n",
    "    \"country_of_residence\": [\"GB\"],\n",
    "    \"address\":\n",
    "    { # Feel free to edit the payload\n",
    "    \"address_refinement\": \"Apartment 77\",\n",
    "    \"address_number\": \"42\",\n",
    "    \"address_street\": \"London Road\",\n",
    "    \"address_city\": \"London\",\n",
    "    \"address_region\": \"Greater London\",\n",
    "    \"address_postal_code\": \"SW1 4AQ\",\n",
    "    \"address_iso_country\": \"GBR\"\n",
    "    }, # Feel free to edit the payload\n",
    "    \"date_onboarded\": \"2015-11-21\",\n",
    "    \"email\": \"harrison@example.net\",\n",
    "    \"name\": \"Harrison Smith\",\n",
    "    \"telephone\": \"+44 22 626 2626\",\n",
    "    \"date_of_birth\": \"1970-11-05\",\n",
    "    \"nationality\": [\n",
    "    \"British\"\n",
    "    ]\n",
    "    },\n",
    "    \"beneficiary_meta\": {\n",
    "    \"foo\": \"baa\",\n",
    "    \"our_salesforce_reference\": \"http://na1.salesforce.com/5003000000D8cuI\"\n",
    "    }\n",
    "}\n",
    "\n",
    "response = requests.request(\"POST\", url, json=payload, headers=headers)\n",
    "\n",
    "print(response.text)"
   ]
  },
  {
   "cell_type": "code",
   "execution_count": null,
   "metadata": {},
   "outputs": [],
   "source": [
    "# Create the variable of your beneficiary\n",
    "beneficiary_id = \"\""
   ]
  },
  {
   "cell_type": "markdown",
   "metadata": {},
   "source": [
    "## Simulate Crediting a Ledger"
   ]
  },
  {
   "cell_type": "code",
   "execution_count": null,
   "metadata": {},
   "outputs": [],
   "source": [
    "# Send some GBP money to your ledger\n",
    "\n",
    "# We cannot use the BASE_URL, need to use the dev one to send 'play' money\n",
    "# This money will be available on ledger in this play environment \n",
    "# https://docs.railsr.com/docs/api/9b4b61c2d80f9-simulate-crediting-a-ledger\n",
    "\n",
    "url = \"https://play.railsbank.com/dev/customer/transactions/receive\"\n",
    "\n",
    "\n",
    "payload = {\n",
    "    'iban': iban,\n",
    "    'amount': 25\n",
    "}\n",
    "\n",
    "# # You can have more key-value pair on this payload\n",
    "# payload = {\n",
    "#     \"bsb_number\": \"021214891\",\n",
    "#     \"uk_account_number\": \"45564658\",\n",
    "#     \"iban\": \"SK4402005678901234567890\",\n",
    "#     \"amount\": \"0\",\n",
    "#     \"reference\": \"this is a test payment\",\n",
    "#     \"account_number\": \"45564658\",\n",
    "#     \"routing_number\": \"021214891\",\n",
    "#     \"uk_sort_code\": \"009975\"\n",
    "# }\n",
    "\n",
    "\n",
    "response = requests.request(\"POST\", url, json=payload, headers=headers)\n",
    "\n",
    "print(response.text)"
   ]
  },
  {
   "cell_type": "code",
   "execution_count": null,
   "metadata": {},
   "outputs": [],
   "source": [
    "# Get the details of transaction\n",
    "# https://docs.railsr.com/docs/api/2cfbfc2a1cb51-get-transaction-details \n",
    "\n",
    "url = BASE_URL + \"/transactions/\" + '<Your transaction id>'\n",
    "\n",
    "response = requests.request(\"GET\", url, headers=headers)\n",
    "\n",
    "print(response.text)"
   ]
  },
  {
   "cell_type": "code",
   "execution_count": null,
   "metadata": {},
   "outputs": [],
   "source": [
    "# Check the amount on ledger\n",
    "# may take few seconds to display the updated amount on ledger\n",
    "url =  BASE_URL + \"/ledgers/\" + ledger_id\n",
    "\n",
    "response = requests.request(\"GET\", url, headers=headers)\n",
    "\n",
    "print(response.text)"
   ]
  },
  {
   "cell_type": "code",
   "execution_count": null,
   "metadata": {},
   "outputs": [],
   "source": [
    "# Send some GBP money from the ledger to your beneficiary\n",
    "\n",
    "url = BASE_URL + \"/transactions\"\n",
    "\n",
    "payload = {\n",
    "    \"ledger_id\": ledger_id,\n",
    "    \"beneficiary_id\": beneficiary_id,\n",
    "    \"payment_type\": \"payment-type-UK-FasterPayments\",\n",
    "    \"amount\": \"2\",\n",
    "    \"reference\": \"The Railsr Guide\",\n",
    "    \"enduser_verified_transaction\": \"trusted-beneficiary\"\n",
    "}\n",
    "\n",
    "response = requests.request(\"POST\", url, json=payload, headers=headers)\n",
    "\n",
    "print(response.text)"
   ]
  },
  {
   "cell_type": "code",
   "execution_count": null,
   "metadata": {},
   "outputs": [],
   "source": [
    "# Check the amount on ledger\n",
    "# may take few seconds to display the updated amount on ledger\n",
    "\n",
    "url = BASE_UCL + \"ledgers/\" + ledger_id\n",
    "\n",
    "response = requests.request(\"GET\", url, headers=headers)\n",
    "\n",
    "print(response.text)"
   ]
  },
  {
   "cell_type": "markdown",
   "metadata": {},
   "source": [
    "## Transfer money between ledgers"
   ]
  },
  {
   "cell_type": "code",
   "execution_count": null,
   "metadata": {},
   "outputs": [],
   "source": [
    "# Get the ledger_id from another group\n",
    "to_ledger_id = ''"
   ]
  },
  {
   "cell_type": "code",
   "execution_count": null,
   "metadata": {},
   "outputs": [],
   "source": [
    "# The assets are sent from specific endusers ledger to the another enduser ledger. \n",
    "# Note that the transaction may take some time (around few seconds)\n",
    "\n",
    "# https://docs.railsr.com/docs/api/127ea4597efcd-create-interledger-transaction\n",
    "\n",
    "url = BASE_URL + \"/inter-ledger\"\n",
    "\n",
    "payload = {\n",
    "    \"ledger_to_id\": to_ledger_id,\n",
    "    \"ledger_from_id\": ledger_id,\n",
    "    \"amount\": \"1\",\n",
    "    \"transaction_meta\": {\"foo\": \"bar\"}\n",
    "}\n",
    "\n",
    "response = requests.request(\"POST\", url, json=payload, headers=headers)\n",
    "\n",
    "print(response.text)"
   ]
  },
  {
   "cell_type": "code",
   "execution_count": null,
   "metadata": {},
   "outputs": [],
   "source": [
    "# Check the balance on your ledger id\n",
    "url = \"https://play.railsbank.com/v1/customer/ledgers/\" + ledger_id\n",
    "\n",
    "response = requests.request(\"GET\", url, headers=headers)\n",
    "\n",
    "print(response.text)"
   ]
  },
  {
   "cell_type": "markdown",
   "metadata": {},
   "source": [
    "## Other APIs that you can explore on RailsBank"
   ]
  },
  {
   "cell_type": "markdown",
   "metadata": {},
   "source": [
    "- Create non-UK ledger\n",
    "- International transfer\n",
    "- Get Exchange Rates\n",
    "- Check KYC Process on end users\n",
    "- Create Reward Ledger\n",
    "- Issue card"
   ]
  }
 ],
 "metadata": {
  "kernelspec": {
   "display_name": "Python 3 (ipykernel)",
   "language": "python",
   "name": "python3"
  },
  "language_info": {
   "codemirror_mode": {
    "name": "ipython",
    "version": 3
   },
   "file_extension": ".py",
   "mimetype": "text/x-python",
   "name": "python",
   "nbconvert_exporter": "python",
   "pygments_lexer": "ipython3",
   "version": "3.10.4"
  }
 },
 "nbformat": 4,
 "nbformat_minor": 4
}
